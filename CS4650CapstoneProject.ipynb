{
  "cells": [
    {
      "cell_type": "code",
      "execution_count": 43,
      "metadata": {
        "id": "5I6QGpk-KNk-"
      },
      "outputs": [],
      "source": [
        "import numpy as np\n",
        "import pandas as pd"
      ]
    },
    {
      "cell_type": "code",
      "execution_count": 44,
      "metadata": {
        "id": "-O13e9DXL3Sf"
      },
      "outputs": [
        {
          "data": {
            "text/html": [
              "<div>\n",
              "<style scoped>\n",
              "    .dataframe tbody tr th:only-of-type {\n",
              "        vertical-align: middle;\n",
              "    }\n",
              "\n",
              "    .dataframe tbody tr th {\n",
              "        vertical-align: top;\n",
              "    }\n",
              "\n",
              "    .dataframe thead th {\n",
              "        text-align: right;\n",
              "    }\n",
              "</style>\n",
              "<table border=\"1\" class=\"dataframe\">\n",
              "  <thead>\n",
              "    <tr style=\"text-align: right;\">\n",
              "      <th></th>\n",
              "      <th>listing_id</th>\n",
              "      <th>url</th>\n",
              "      <th>review_posted_date</th>\n",
              "      <th>review</th>\n",
              "    </tr>\n",
              "  </thead>\n",
              "  <tbody>\n",
              "    <tr>\n",
              "      <th>0</th>\n",
              "      <td>2595</td>\n",
              "      <td>https://www.airbnb.com/rooms/2595</td>\n",
              "      <td>November 2019</td>\n",
              "      <td>Great location, convenient to everything. Very...</td>\n",
              "    </tr>\n",
              "    <tr>\n",
              "      <th>1</th>\n",
              "      <td>2595</td>\n",
              "      <td>https://www.airbnb.com/rooms/2595</td>\n",
              "      <td>May 2019</td>\n",
              "      <td>Place was so cute and comfy! Host was great an...</td>\n",
              "    </tr>\n",
              "    <tr>\n",
              "      <th>2</th>\n",
              "      <td>2595</td>\n",
              "      <td>https://www.airbnb.com/rooms/2595</td>\n",
              "      <td>May 2019</td>\n",
              "      <td>10 / 10 would stay again</td>\n",
              "    </tr>\n",
              "    <tr>\n",
              "      <th>3</th>\n",
              "      <td>2595</td>\n",
              "      <td>https://www.airbnb.com/rooms/2595</td>\n",
              "      <td>January 2019</td>\n",
              "      <td>The apartment met expectations to how it was i...</td>\n",
              "    </tr>\n",
              "    <tr>\n",
              "      <th>4</th>\n",
              "      <td>2595</td>\n",
              "      <td>https://www.airbnb.com/rooms/2595</td>\n",
              "      <td>December 2018</td>\n",
              "      <td>Great space in a fun old building in NYC. Love...</td>\n",
              "    </tr>\n",
              "  </tbody>\n",
              "</table>\n",
              "</div>"
            ],
            "text/plain": [
              "   listing_id                                url review_posted_date  \\\n",
              "0        2595  https://www.airbnb.com/rooms/2595      November 2019   \n",
              "1        2595  https://www.airbnb.com/rooms/2595           May 2019   \n",
              "2        2595  https://www.airbnb.com/rooms/2595           May 2019   \n",
              "3        2595  https://www.airbnb.com/rooms/2595       January 2019   \n",
              "4        2595  https://www.airbnb.com/rooms/2595      December 2018   \n",
              "\n",
              "                                              review  \n",
              "0  Great location, convenient to everything. Very...  \n",
              "1  Place was so cute and comfy! Host was great an...  \n",
              "2                           10 / 10 would stay again  \n",
              "3  The apartment met expectations to how it was i...  \n",
              "4  Great space in a fun old building in NYC. Love...  "
            ]
          },
          "execution_count": 44,
          "metadata": {},
          "output_type": "execute_result"
        }
      ],
      "source": [
        "df = pd.read_csv(\"NYC_2021_airbnb_reviews_data1.csv\")\n",
        "df.head()"
      ]
    },
    {
      "cell_type": "code",
      "execution_count": 45,
      "metadata": {
        "id": "9IDgaUvRPHQn"
      },
      "outputs": [
        {
          "name": "stdout",
          "output_type": "stream",
          "text": [
            "<class 'pandas.core.frame.DataFrame'>\n",
            "RangeIndex: 17444 entries, 0 to 17443\n",
            "Data columns (total 4 columns):\n",
            " #   Column              Non-Null Count  Dtype \n",
            "---  ------              --------------  ----- \n",
            " 0   listing_id          17444 non-null  int64 \n",
            " 1   url                 17444 non-null  object\n",
            " 2   review_posted_date  17444 non-null  object\n",
            " 3   review              17444 non-null  object\n",
            "dtypes: int64(1), object(3)\n",
            "memory usage: 545.2+ KB\n"
          ]
        }
      ],
      "source": [
        "df.info()"
      ]
    },
    {
      "cell_type": "code",
      "execution_count": 46,
      "metadata": {
        "id": "268KjNqbNd_b"
      },
      "outputs": [
        {
          "data": {
            "text/plain": [
              "219"
            ]
          },
          "execution_count": 46,
          "metadata": {},
          "output_type": "execute_result"
        }
      ],
      "source": [
        "id = df.listing_id.unique()\n",
        "len(id)"
      ]
    },
    {
      "cell_type": "code",
      "execution_count": 47,
      "metadata": {
        "id": "Jhn6xzxfPPKp"
      },
      "outputs": [
        {
          "data": {
            "text/html": [
              "<div>\n",
              "<style scoped>\n",
              "    .dataframe tbody tr th:only-of-type {\n",
              "        vertical-align: middle;\n",
              "    }\n",
              "\n",
              "    .dataframe tbody tr th {\n",
              "        vertical-align: top;\n",
              "    }\n",
              "\n",
              "    .dataframe thead th {\n",
              "        text-align: right;\n",
              "    }\n",
              "</style>\n",
              "<table border=\"1\" class=\"dataframe\">\n",
              "  <thead>\n",
              "    <tr style=\"text-align: right;\">\n",
              "      <th></th>\n",
              "      <th>listing_id</th>\n",
              "      <th>review</th>\n",
              "    </tr>\n",
              "  </thead>\n",
              "  <tbody>\n",
              "    <tr>\n",
              "      <th>0</th>\n",
              "      <td>2595</td>\n",
              "      <td>Great location, convenient to everything. Very...</td>\n",
              "    </tr>\n",
              "    <tr>\n",
              "      <th>1</th>\n",
              "      <td>2595</td>\n",
              "      <td>Place was so cute and comfy! Host was great an...</td>\n",
              "    </tr>\n",
              "    <tr>\n",
              "      <th>2</th>\n",
              "      <td>2595</td>\n",
              "      <td>10 / 10 would stay again</td>\n",
              "    </tr>\n",
              "    <tr>\n",
              "      <th>3</th>\n",
              "      <td>2595</td>\n",
              "      <td>The apartment met expectations to how it was i...</td>\n",
              "    </tr>\n",
              "    <tr>\n",
              "      <th>4</th>\n",
              "      <td>2595</td>\n",
              "      <td>Great space in a fun old building in NYC. Love...</td>\n",
              "    </tr>\n",
              "  </tbody>\n",
              "</table>\n",
              "</div>"
            ],
            "text/plain": [
              "   listing_id                                             review\n",
              "0        2595  Great location, convenient to everything. Very...\n",
              "1        2595  Place was so cute and comfy! Host was great an...\n",
              "2        2595                           10 / 10 would stay again\n",
              "3        2595  The apartment met expectations to how it was i...\n",
              "4        2595  Great space in a fun old building in NYC. Love..."
            ]
          },
          "execution_count": 47,
          "metadata": {},
          "output_type": "execute_result"
        }
      ],
      "source": [
        "review = df[[\"listing_id\", \"review\"]]\n",
        "review.head()"
      ]
    },
    {
      "cell_type": "code",
      "execution_count": 48,
      "metadata": {
        "id": "NZYto1ClPhiC"
      },
      "outputs": [
        {
          "data": {
            "text/plain": [
              "'great location convenient to everything very cool space and building'"
            ]
          },
          "execution_count": 48,
          "metadata": {},
          "output_type": "execute_result"
        }
      ],
      "source": [
        "import nltk\n",
        "import re\n",
        "def process(text):\n",
        "    text = text.lower()\n",
        "    text = re.sub('[^a-zA-Z]+', ' ', text).strip()\n",
        "    return(text)\n",
        "process(review['review'][0])"
      ]
    },
    {
      "cell_type": "code",
      "execution_count": 49,
      "metadata": {
        "id": "_K8isW6GP80u"
      },
      "outputs": [
        {
          "name": "stderr",
          "output_type": "stream",
          "text": [
            "C:\\Users\\wkwan\\AppData\\Local\\Temp\\ipykernel_14896\\3681335994.py:1: SettingWithCopyWarning: \n",
            "A value is trying to be set on a copy of a slice from a DataFrame.\n",
            "Try using .loc[row_indexer,col_indexer] = value instead\n",
            "\n",
            "See the caveats in the documentation: https://pandas.pydata.org/pandas-docs/stable/user_guide/indexing.html#returning-a-view-versus-a-copy\n",
            "  review['clean_text'] = review['review'].apply(lambda text: process(text))\n"
          ]
        },
        {
          "data": {
            "text/html": [
              "<div>\n",
              "<style scoped>\n",
              "    .dataframe tbody tr th:only-of-type {\n",
              "        vertical-align: middle;\n",
              "    }\n",
              "\n",
              "    .dataframe tbody tr th {\n",
              "        vertical-align: top;\n",
              "    }\n",
              "\n",
              "    .dataframe thead th {\n",
              "        text-align: right;\n",
              "    }\n",
              "</style>\n",
              "<table border=\"1\" class=\"dataframe\">\n",
              "  <thead>\n",
              "    <tr style=\"text-align: right;\">\n",
              "      <th></th>\n",
              "      <th>listing_id</th>\n",
              "      <th>review</th>\n",
              "      <th>clean_text</th>\n",
              "    </tr>\n",
              "  </thead>\n",
              "  <tbody>\n",
              "    <tr>\n",
              "      <th>0</th>\n",
              "      <td>2595</td>\n",
              "      <td>Great location, convenient to everything. Very...</td>\n",
              "      <td>great location convenient to everything very c...</td>\n",
              "    </tr>\n",
              "    <tr>\n",
              "      <th>1</th>\n",
              "      <td>2595</td>\n",
              "      <td>Place was so cute and comfy! Host was great an...</td>\n",
              "      <td>place was so cute and comfy host was great and...</td>\n",
              "    </tr>\n",
              "    <tr>\n",
              "      <th>2</th>\n",
              "      <td>2595</td>\n",
              "      <td>10 / 10 would stay again</td>\n",
              "      <td>would stay again</td>\n",
              "    </tr>\n",
              "    <tr>\n",
              "      <th>3</th>\n",
              "      <td>2595</td>\n",
              "      <td>The apartment met expectations to how it was i...</td>\n",
              "      <td>the apartment met expectations to how it was i...</td>\n",
              "    </tr>\n",
              "    <tr>\n",
              "      <th>4</th>\n",
              "      <td>2595</td>\n",
              "      <td>Great space in a fun old building in NYC. Love...</td>\n",
              "      <td>great space in a fun old building in nyc loved...</td>\n",
              "    </tr>\n",
              "  </tbody>\n",
              "</table>\n",
              "</div>"
            ],
            "text/plain": [
              "   listing_id                                             review  \\\n",
              "0        2595  Great location, convenient to everything. Very...   \n",
              "1        2595  Place was so cute and comfy! Host was great an...   \n",
              "2        2595                           10 / 10 would stay again   \n",
              "3        2595  The apartment met expectations to how it was i...   \n",
              "4        2595  Great space in a fun old building in NYC. Love...   \n",
              "\n",
              "                                          clean_text  \n",
              "0  great location convenient to everything very c...  \n",
              "1  place was so cute and comfy host was great and...  \n",
              "2                                   would stay again  \n",
              "3  the apartment met expectations to how it was i...  \n",
              "4  great space in a fun old building in nyc loved...  "
            ]
          },
          "execution_count": 49,
          "metadata": {},
          "output_type": "execute_result"
        }
      ],
      "source": [
        "review['clean_text'] = review['review'].apply(lambda text: process(text))\n",
        "review.head()"
      ]
    },
    {
      "cell_type": "code",
      "execution_count": 50,
      "metadata": {
        "id": "xGXHAzCWQgLH"
      },
      "outputs": [
        {
          "name": "stdout",
          "output_type": "stream",
          "text": [
            "great location convenient to everything very cool space and building\n"
          ]
        },
        {
          "name": "stderr",
          "output_type": "stream",
          "text": [
            "[nltk_data] Downloading package vader_lexicon to\n",
            "[nltk_data]     C:\\Users\\wkwan\\AppData\\Roaming\\nltk_data...\n",
            "[nltk_data]   Package vader_lexicon is already up-to-date!\n"
          ]
        },
        {
          "data": {
            "text/plain": [
              "{'neg': 0.0, 'neu': 0.544, 'pos': 0.456, 'compound': 0.7713}"
            ]
          },
          "execution_count": 50,
          "metadata": {},
          "output_type": "execute_result"
        }
      ],
      "source": [
        "nltk.download('vader_lexicon')\n",
        "from nltk.sentiment.vader import SentimentIntensityAnalyzer\n",
        "analyzer = SentimentIntensityAnalyzer()\n",
        "text = review['clean_text'][0]\n",
        "print(text)\n",
        "analyzer.polarity_scores(text)"
      ]
    },
    {
      "cell_type": "code",
      "execution_count": 52,
      "metadata": {},
      "outputs": [
        {
          "data": {
            "text/html": [
              "<div>\n",
              "<style scoped>\n",
              "    .dataframe tbody tr th:only-of-type {\n",
              "        vertical-align: middle;\n",
              "    }\n",
              "\n",
              "    .dataframe tbody tr th {\n",
              "        vertical-align: top;\n",
              "    }\n",
              "\n",
              "    .dataframe thead th {\n",
              "        text-align: right;\n",
              "    }\n",
              "</style>\n",
              "<table border=\"1\" class=\"dataframe\">\n",
              "  <thead>\n",
              "    <tr style=\"text-align: right;\">\n",
              "      <th></th>\n",
              "      <th>listing_id</th>\n",
              "      <th>review</th>\n",
              "      <th>clean_text</th>\n",
              "      <th>review_score_cleaned</th>\n",
              "      <th>review_score</th>\n",
              "    </tr>\n",
              "  </thead>\n",
              "  <tbody>\n",
              "    <tr>\n",
              "      <th>0</th>\n",
              "      <td>2595</td>\n",
              "      <td>Great location, convenient to everything. Very...</td>\n",
              "      <td>great location convenient to everything very c...</td>\n",
              "      <td>0.7713</td>\n",
              "      <td>0.7713</td>\n",
              "    </tr>\n",
              "    <tr>\n",
              "      <th>1</th>\n",
              "      <td>2595</td>\n",
              "      <td>Place was so cute and comfy! Host was great an...</td>\n",
              "      <td>place was so cute and comfy host was great and...</td>\n",
              "      <td>0.9506</td>\n",
              "      <td>0.9549</td>\n",
              "    </tr>\n",
              "    <tr>\n",
              "      <th>2</th>\n",
              "      <td>2595</td>\n",
              "      <td>10 / 10 would stay again</td>\n",
              "      <td>would stay again</td>\n",
              "      <td>0.0000</td>\n",
              "      <td>0.0000</td>\n",
              "    </tr>\n",
              "    <tr>\n",
              "      <th>3</th>\n",
              "      <td>2595</td>\n",
              "      <td>The apartment met expectations to how it was i...</td>\n",
              "      <td>the apartment met expectations to how it was i...</td>\n",
              "      <td>0.5829</td>\n",
              "      <td>0.4580</td>\n",
              "    </tr>\n",
              "    <tr>\n",
              "      <th>4</th>\n",
              "      <td>2595</td>\n",
              "      <td>Great space in a fun old building in NYC. Love...</td>\n",
              "      <td>great space in a fun old building in nyc loved...</td>\n",
              "      <td>0.9062</td>\n",
              "      <td>0.9062</td>\n",
              "    </tr>\n",
              "  </tbody>\n",
              "</table>\n",
              "</div>"
            ],
            "text/plain": [
              "   listing_id                                             review  \\\n",
              "0        2595  Great location, convenient to everything. Very...   \n",
              "1        2595  Place was so cute and comfy! Host was great an...   \n",
              "2        2595                           10 / 10 would stay again   \n",
              "3        2595  The apartment met expectations to how it was i...   \n",
              "4        2595  Great space in a fun old building in NYC. Love...   \n",
              "\n",
              "                                          clean_text  review_score_cleaned  \\\n",
              "0  great location convenient to everything very c...                0.7713   \n",
              "1  place was so cute and comfy host was great and...                0.9506   \n",
              "2                                   would stay again                0.0000   \n",
              "3  the apartment met expectations to how it was i...                0.5829   \n",
              "4  great space in a fun old building in nyc loved...                0.9062   \n",
              "\n",
              "   review_score  \n",
              "0        0.7713  \n",
              "1        0.9549  \n",
              "2        0.0000  \n",
              "3        0.4580  \n",
              "4        0.9062  "
            ]
          },
          "execution_count": 52,
          "metadata": {},
          "output_type": "execute_result"
        }
      ],
      "source": [
        "review['review_score_cleaned'] = review['clean_text'].apply(lambda x:analyzer.polarity_scores(x)['compound'])\n",
        "review['review_score'] = review['review'].apply(lambda x:analyzer.polarity_scores(x)['compound'])\n",
        "review.head()"
      ]
    },
    {
      "attachments": {},
      "cell_type": "markdown",
      "metadata": {},
      "source": [
        "Addon\n",
        "1. mapreduce: look for the average review_score_cleaned (sentiment) of each listing\n",
        "2. mapreduce:\n",
        "3. box plot of the review_score_cleaned of each listing\n",
        "4. line graph of review_score_cleaned vs review_posted_date of each listing"
      ]
    }
  ],
  "metadata": {
    "colab": {
      "provenance": []
    },
    "kernelspec": {
      "display_name": "Python 3",
      "language": "python",
      "name": "python3"
    },
    "language_info": {
      "codemirror_mode": {
        "name": "ipython",
        "version": 3
      },
      "file_extension": ".py",
      "mimetype": "text/x-python",
      "name": "python",
      "nbconvert_exporter": "python",
      "pygments_lexer": "ipython3",
      "version": "3.8.10"
    },
    "vscode": {
      "interpreter": {
        "hash": "1cc2b5c54b8906007202f0eacccb3029a3309de6a0dd2a6fb711e9fb9613b144"
      }
    }
  },
  "nbformat": 4,
  "nbformat_minor": 0
}
