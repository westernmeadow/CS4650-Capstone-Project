{
<<<<<<< HEAD
 "cells": [
  {
   "cell_type": "code",
   "execution_count": 1,
   "metadata": {
    "id": "5I6QGpk-KNk-"
   },
   "outputs": [],
   "source": [
    "import numpy as np\n",
    "import pandas as pd"
   ]
=======
  "cells": [
    {
      "cell_type": "code",
      "execution_count": 166,
      "metadata": {
        "id": "5I6QGpk-KNk-"
      },
      "outputs": [],
      "source": [
        "import numpy as np\n",
        "import pandas as pd"
      ]
    },
    {
      "cell_type": "code",
      "execution_count": 167,
      "metadata": {
        "id": "-O13e9DXL3Sf"
      },
      "outputs": [
        {
          "data": {
            "text/html": [
              "<div>\n",
              "<style scoped>\n",
              "    .dataframe tbody tr th:only-of-type {\n",
              "        vertical-align: middle;\n",
              "    }\n",
              "\n",
              "    .dataframe tbody tr th {\n",
              "        vertical-align: top;\n",
              "    }\n",
              "\n",
              "    .dataframe thead th {\n",
              "        text-align: right;\n",
              "    }\n",
              "</style>\n",
              "<table border=\"1\" class=\"dataframe\">\n",
              "  <thead>\n",
              "    <tr style=\"text-align: right;\">\n",
              "      <th></th>\n",
              "      <th>listing_id</th>\n",
              "      <th>url</th>\n",
              "      <th>review_posted_date</th>\n",
              "      <th>review</th>\n",
              "    </tr>\n",
              "  </thead>\n",
              "  <tbody>\n",
              "    <tr>\n",
              "      <th>0</th>\n",
              "      <td>2595</td>\n",
              "      <td>https://www.airbnb.com/rooms/2595</td>\n",
              "      <td>November 2019</td>\n",
              "      <td>Great location, convenient to everything. Very...</td>\n",
              "    </tr>\n",
              "    <tr>\n",
              "      <th>1</th>\n",
              "      <td>2595</td>\n",
              "      <td>https://www.airbnb.com/rooms/2595</td>\n",
              "      <td>May 2019</td>\n",
              "      <td>Place was so cute and comfy! Host was great an...</td>\n",
              "    </tr>\n",
              "    <tr>\n",
              "      <th>2</th>\n",
              "      <td>2595</td>\n",
              "      <td>https://www.airbnb.com/rooms/2595</td>\n",
              "      <td>May 2019</td>\n",
              "      <td>10 / 10 would stay again</td>\n",
              "    </tr>\n",
              "    <tr>\n",
              "      <th>3</th>\n",
              "      <td>2595</td>\n",
              "      <td>https://www.airbnb.com/rooms/2595</td>\n",
              "      <td>January 2019</td>\n",
              "      <td>The apartment met expectations to how it was i...</td>\n",
              "    </tr>\n",
              "    <tr>\n",
              "      <th>4</th>\n",
              "      <td>2595</td>\n",
              "      <td>https://www.airbnb.com/rooms/2595</td>\n",
              "      <td>December 2018</td>\n",
              "      <td>Great space in a fun old building in NYC. Love...</td>\n",
              "    </tr>\n",
              "  </tbody>\n",
              "</table>\n",
              "</div>"
            ],
            "text/plain": [
              "   listing_id                                url review_posted_date  \\\n",
              "0        2595  https://www.airbnb.com/rooms/2595      November 2019   \n",
              "1        2595  https://www.airbnb.com/rooms/2595           May 2019   \n",
              "2        2595  https://www.airbnb.com/rooms/2595           May 2019   \n",
              "3        2595  https://www.airbnb.com/rooms/2595       January 2019   \n",
              "4        2595  https://www.airbnb.com/rooms/2595      December 2018   \n",
              "\n",
              "                                              review  \n",
              "0  Great location, convenient to everything. Very...  \n",
              "1  Place was so cute and comfy! Host was great an...  \n",
              "2                           10 / 10 would stay again  \n",
              "3  The apartment met expectations to how it was i...  \n",
              "4  Great space in a fun old building in NYC. Love...  "
            ]
          },
          "execution_count": 167,
          "metadata": {},
          "output_type": "execute_result"
        }
      ],
      "source": [
        "df = pd.read_csv(\"NYC_2021_airbnb_reviews_data1.csv\")\n",
        "df.head()"
      ]
    },
    {
      "cell_type": "code",
      "execution_count": 168,
      "metadata": {
        "id": "9IDgaUvRPHQn"
      },
      "outputs": [
        {
          "name": "stdout",
          "output_type": "stream",
          "text": [
            "<class 'pandas.core.frame.DataFrame'>\n",
            "RangeIndex: 17444 entries, 0 to 17443\n",
            "Data columns (total 4 columns):\n",
            " #   Column              Non-Null Count  Dtype \n",
            "---  ------              --------------  ----- \n",
            " 0   listing_id          17444 non-null  int64 \n",
            " 1   url                 17444 non-null  object\n",
            " 2   review_posted_date  17444 non-null  object\n",
            " 3   review              17444 non-null  object\n",
            "dtypes: int64(1), object(3)\n",
            "memory usage: 545.2+ KB\n"
          ]
        }
      ],
      "source": [
        "df.info()"
      ]
    },
    {
      "cell_type": "code",
      "execution_count": 169,
      "metadata": {
        "id": "268KjNqbNd_b"
      },
      "outputs": [
        {
          "data": {
            "text/plain": [
              "219"
            ]
          },
          "execution_count": 169,
          "metadata": {},
          "output_type": "execute_result"
        }
      ],
      "source": [
        "id = df.listing_id.unique()\n",
        "len(id)"
      ]
    },
    {
      "cell_type": "code",
      "execution_count": 170,
      "metadata": {
        "id": "Jhn6xzxfPPKp"
      },
      "outputs": [
        {
          "data": {
            "text/html": [
              "<div>\n",
              "<style scoped>\n",
              "    .dataframe tbody tr th:only-of-type {\n",
              "        vertical-align: middle;\n",
              "    }\n",
              "\n",
              "    .dataframe tbody tr th {\n",
              "        vertical-align: top;\n",
              "    }\n",
              "\n",
              "    .dataframe thead th {\n",
              "        text-align: right;\n",
              "    }\n",
              "</style>\n",
              "<table border=\"1\" class=\"dataframe\">\n",
              "  <thead>\n",
              "    <tr style=\"text-align: right;\">\n",
              "      <th></th>\n",
              "      <th>listing_id</th>\n",
              "      <th>review_posted_date</th>\n",
              "      <th>review</th>\n",
              "    </tr>\n",
              "  </thead>\n",
              "  <tbody>\n",
              "    <tr>\n",
              "      <th>0</th>\n",
              "      <td>2595</td>\n",
              "      <td>November 2019</td>\n",
              "      <td>Great location, convenient to everything. Very...</td>\n",
              "    </tr>\n",
              "    <tr>\n",
              "      <th>1</th>\n",
              "      <td>2595</td>\n",
              "      <td>May 2019</td>\n",
              "      <td>Place was so cute and comfy! Host was great an...</td>\n",
              "    </tr>\n",
              "    <tr>\n",
              "      <th>2</th>\n",
              "      <td>2595</td>\n",
              "      <td>May 2019</td>\n",
              "      <td>10 / 10 would stay again</td>\n",
              "    </tr>\n",
              "    <tr>\n",
              "      <th>3</th>\n",
              "      <td>2595</td>\n",
              "      <td>January 2019</td>\n",
              "      <td>The apartment met expectations to how it was i...</td>\n",
              "    </tr>\n",
              "    <tr>\n",
              "      <th>4</th>\n",
              "      <td>2595</td>\n",
              "      <td>December 2018</td>\n",
              "      <td>Great space in a fun old building in NYC. Love...</td>\n",
              "    </tr>\n",
              "  </tbody>\n",
              "</table>\n",
              "</div>"
            ],
            "text/plain": [
              "   listing_id review_posted_date  \\\n",
              "0        2595      November 2019   \n",
              "1        2595           May 2019   \n",
              "2        2595           May 2019   \n",
              "3        2595       January 2019   \n",
              "4        2595      December 2018   \n",
              "\n",
              "                                              review  \n",
              "0  Great location, convenient to everything. Very...  \n",
              "1  Place was so cute and comfy! Host was great an...  \n",
              "2                           10 / 10 would stay again  \n",
              "3  The apartment met expectations to how it was i...  \n",
              "4  Great space in a fun old building in NYC. Love...  "
            ]
          },
          "execution_count": 170,
          "metadata": {},
          "output_type": "execute_result"
        }
      ],
      "source": [
        "review = df[[\"listing_id\", \"review_posted_date\", \"review\"]]\n",
        "review.head()"
      ]
    },
    {
      "cell_type": "code",
      "execution_count": 171,
      "metadata": {
        "id": "NZYto1ClPhiC"
      },
      "outputs": [
        {
          "data": {
            "text/plain": [
              "'great location convenient everything cool space building'"
            ]
          },
          "execution_count": 171,
          "metadata": {},
          "output_type": "execute_result"
        }
      ],
      "source": [
        "from nltk.corpus import stopwords\n",
        "from nltk.tokenize import wordpunct_tokenize\n",
        "import re\n",
        "\n",
        "def process(text):\n",
        "    text = re.sub('[^a-zA-Z]+', ' ', text).strip()\n",
        "    tokens = wordpunct_tokenize(text.lower())\n",
        "    final_stopwords = stopwords.words('english') + stopwords.words('french') + stopwords.words('spanish') + stopwords.words('german')\n",
        "    tokens_wo_stopwords = [t for t in tokens if t not in final_stopwords]\n",
        "    text = \" \".join(tokens_wo_stopwords)\n",
        "    return(text)\n",
        "process(review['review'][0])"
      ]
    },
    {
      "cell_type": "code",
      "execution_count": 172,
      "metadata": {
        "id": "_K8isW6GP80u"
      },
      "outputs": [
        {
          "data": {
            "text/html": [
              "<div>\n",
              "<style scoped>\n",
              "    .dataframe tbody tr th:only-of-type {\n",
              "        vertical-align: middle;\n",
              "    }\n",
              "\n",
              "    .dataframe tbody tr th {\n",
              "        vertical-align: top;\n",
              "    }\n",
              "\n",
              "    .dataframe thead th {\n",
              "        text-align: right;\n",
              "    }\n",
              "</style>\n",
              "<table border=\"1\" class=\"dataframe\">\n",
              "  <thead>\n",
              "    <tr style=\"text-align: right;\">\n",
              "      <th></th>\n",
              "      <th>listing_id</th>\n",
              "      <th>review_posted_date</th>\n",
              "      <th>review</th>\n",
              "      <th>clean_text</th>\n",
              "    </tr>\n",
              "  </thead>\n",
              "  <tbody>\n",
              "    <tr>\n",
              "      <th>0</th>\n",
              "      <td>2595</td>\n",
              "      <td>November 2019</td>\n",
              "      <td>Great location, convenient to everything. Very...</td>\n",
              "      <td>great location convenient everything cool spac...</td>\n",
              "    </tr>\n",
              "    <tr>\n",
              "      <th>1</th>\n",
              "      <td>2595</td>\n",
              "      <td>May 2019</td>\n",
              "      <td>Place was so cute and comfy! Host was great an...</td>\n",
              "      <td>place cute comfy host great quick communicate ...</td>\n",
              "    </tr>\n",
              "    <tr>\n",
              "      <th>2</th>\n",
              "      <td>2595</td>\n",
              "      <td>May 2019</td>\n",
              "      <td>10 / 10 would stay again</td>\n",
              "      <td>would stay</td>\n",
              "    </tr>\n",
              "    <tr>\n",
              "      <th>3</th>\n",
              "      <td>2595</td>\n",
              "      <td>January 2019</td>\n",
              "      <td>The apartment met expectations to how it was i...</td>\n",
              "      <td>apartment met expectations insinuated ad jenni...</td>\n",
              "    </tr>\n",
              "    <tr>\n",
              "      <th>4</th>\n",
              "      <td>2595</td>\n",
              "      <td>December 2018</td>\n",
              "      <td>Great space in a fun old building in NYC. Love...</td>\n",
              "      <td>great space fun old building nyc loved lightin...</td>\n",
              "    </tr>\n",
              "  </tbody>\n",
              "</table>\n",
              "</div>"
            ],
            "text/plain": [
              "   listing_id review_posted_date  \\\n",
              "0        2595      November 2019   \n",
              "1        2595           May 2019   \n",
              "2        2595           May 2019   \n",
              "3        2595       January 2019   \n",
              "4        2595      December 2018   \n",
              "\n",
              "                                              review  \\\n",
              "0  Great location, convenient to everything. Very...   \n",
              "1  Place was so cute and comfy! Host was great an...   \n",
              "2                           10 / 10 would stay again   \n",
              "3  The apartment met expectations to how it was i...   \n",
              "4  Great space in a fun old building in NYC. Love...   \n",
              "\n",
              "                                          clean_text  \n",
              "0  great location convenient everything cool spac...  \n",
              "1  place cute comfy host great quick communicate ...  \n",
              "2                                         would stay  \n",
              "3  apartment met expectations insinuated ad jenni...  \n",
              "4  great space fun old building nyc loved lightin...  "
            ]
          },
          "execution_count": 172,
          "metadata": {},
          "output_type": "execute_result"
        }
      ],
      "source": [
        "review['clean_text'] = review['review'].apply(lambda text: process(text))\n",
        "review.head()"
      ]
    },
    {
      "cell_type": "code",
      "execution_count": 173,
      "metadata": {},
      "outputs": [
        {
          "name": "stdout",
          "output_type": "stream",
          "text": [
            "hebben genoten van ons verblijf het appartement van jennifer prima centraal gelegen ook v openbaar vervoer het daklicht maakt dat het prettig licht ruim aanvoelt enige minpuntje vier trappen\n"
          ]
        },
        {
          "data": {
            "text/plain": [
              "{'neg': 0.0, 'neu': 0.0, 'pos': 0.0, 'compound': 0.0}"
            ]
          },
          "execution_count": 173,
          "metadata": {},
          "output_type": "execute_result"
        }
      ],
      "source": [
        "from nltk.sentiment.vader import SentimentIntensityAnalyzer\n",
        "analyzer = SentimentIntensityAnalyzer()\n",
        "text = review['clean_text'][46]\n",
        "print(text)\n",
        "analyzer.polarity_scores(text)\n",
        "analyzer.polarity_scores(\" \")"
      ]
    },
    {
      "cell_type": "code",
      "execution_count": 174,
      "metadata": {},
      "outputs": [
        {
          "data": {
            "text/html": [
              "<div>\n",
              "<style scoped>\n",
              "    .dataframe tbody tr th:only-of-type {\n",
              "        vertical-align: middle;\n",
              "    }\n",
              "\n",
              "    .dataframe tbody tr th {\n",
              "        vertical-align: top;\n",
              "    }\n",
              "\n",
              "    .dataframe thead th {\n",
              "        text-align: right;\n",
              "    }\n",
              "</style>\n",
              "<table border=\"1\" class=\"dataframe\">\n",
              "  <thead>\n",
              "    <tr style=\"text-align: right;\">\n",
              "      <th></th>\n",
              "      <th>listing_id</th>\n",
              "      <th>review_posted_date</th>\n",
              "      <th>review</th>\n",
              "      <th>clean_text</th>\n",
              "      <th>review_score_cleaned</th>\n",
              "    </tr>\n",
              "  </thead>\n",
              "  <tbody>\n",
              "    <tr>\n",
              "      <th>0</th>\n",
              "      <td>2595</td>\n",
              "      <td>November 2019</td>\n",
              "      <td>Great location, convenient to everything. Very...</td>\n",
              "      <td>great location convenient everything cool spac...</td>\n",
              "      <td>0.7506</td>\n",
              "    </tr>\n",
              "    <tr>\n",
              "      <th>1</th>\n",
              "      <td>2595</td>\n",
              "      <td>May 2019</td>\n",
              "      <td>Place was so cute and comfy! Host was great an...</td>\n",
              "      <td>place cute comfy host great quick communicate ...</td>\n",
              "      <td>0.9432</td>\n",
              "    </tr>\n",
              "    <tr>\n",
              "      <th>2</th>\n",
              "      <td>2595</td>\n",
              "      <td>May 2019</td>\n",
              "      <td>10 / 10 would stay again</td>\n",
              "      <td>would stay</td>\n",
              "      <td>0.0000</td>\n",
              "    </tr>\n",
              "    <tr>\n",
              "      <th>3</th>\n",
              "      <td>2595</td>\n",
              "      <td>January 2019</td>\n",
              "      <td>The apartment met expectations to how it was i...</td>\n",
              "      <td>apartment met expectations insinuated ad jenni...</td>\n",
              "      <td>0.7506</td>\n",
              "    </tr>\n",
              "    <tr>\n",
              "      <th>4</th>\n",
              "      <td>2595</td>\n",
              "      <td>December 2018</td>\n",
              "      <td>Great space in a fun old building in NYC. Love...</td>\n",
              "      <td>great space fun old building nyc loved lightin...</td>\n",
              "      <td>0.9062</td>\n",
              "    </tr>\n",
              "  </tbody>\n",
              "</table>\n",
              "</div>"
            ],
            "text/plain": [
              "   listing_id review_posted_date  \\\n",
              "0        2595      November 2019   \n",
              "1        2595           May 2019   \n",
              "2        2595           May 2019   \n",
              "3        2595       January 2019   \n",
              "4        2595      December 2018   \n",
              "\n",
              "                                              review  \\\n",
              "0  Great location, convenient to everything. Very...   \n",
              "1  Place was so cute and comfy! Host was great an...   \n",
              "2                           10 / 10 would stay again   \n",
              "3  The apartment met expectations to how it was i...   \n",
              "4  Great space in a fun old building in NYC. Love...   \n",
              "\n",
              "                                          clean_text  review_score_cleaned  \n",
              "0  great location convenient everything cool spac...                0.7506  \n",
              "1  place cute comfy host great quick communicate ...                0.9432  \n",
              "2                                         would stay                0.0000  \n",
              "3  apartment met expectations insinuated ad jenni...                0.7506  \n",
              "4  great space fun old building nyc loved lightin...                0.9062  "
            ]
          },
          "execution_count": 174,
          "metadata": {},
          "output_type": "execute_result"
        }
      ],
      "source": [
        "review['review_score_cleaned'] = review['clean_text'].apply(lambda x:analyzer.polarity_scores(x)['compound'])\n",
        "review.head()"
      ]
    },
    {
      "cell_type": "code",
      "execution_count": 175,
      "metadata": {},
      "outputs": [],
      "source": [
        "review.drop('review', axis=1, inplace=True)"
      ]
    },
    {
      "cell_type": "code",
      "execution_count": 176,
      "metadata": {},
      "outputs": [],
      "source": [
        "review.to_csv(\"reviews_with_sentiment.csv\", header=False, index=False)"
      ]
    },
    {
      "cell_type": "code",
      "execution_count": 177,
      "metadata": {},
      "outputs": [
        {
          "data": {
            "text/plain": [
              "<AxesSubplot: >"
            ]
          },
          "execution_count": 177,
          "metadata": {},
          "output_type": "execute_result"
        },
        {
          "data": {
            "image/png": "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",
            "text/plain": [
              "<Figure size 640x480 with 1 Axes>"
            ]
          },
          "metadata": {},
          "output_type": "display_data"
        }
      ],
      "source": [
        "import matplotlib as plt\n",
        "review[\"review_score_cleaned\"].hist()"
      ]
    },
    {
      "cell_type": "markdown",
      "metadata": {},
      "source": [
        "!python sentiment_month_and_year.py -r local reviews_with_sentiment.csv --no-bootstrap-mrjob"
      ]
    },
    {
      "attachments": {},
      "cell_type": "markdown",
      "metadata": {},
      "source": [
        "Addon\n",
        "1. mapreduce: look for the average (min and max too?) review_score_cleaned (sentiment) of each listing\n",
        "2. mapreduce: look for the average review_score_cleaned of each month and year\n",
        "3. mapreduce: ... of each month only\n",
        "4. box plot of the review_score_cleaned of each listing\n",
        "5. line graph of review_score_cleaned vs review_posted_date of each listing"
      ]
    },
    {
      "cell_type": "code",
      "execution_count": 178,
      "metadata": {},
      "outputs": [
        {
          "name": "stdout",
          "output_type": "stream",
          "text": [
            "Overwriting sentiment_listing.py\n"
          ]
        }
      ],
      "source": [
        "%%file sentiment_listing.py\n",
        "from mrjob.job import MRJob\n",
        "\n",
        "class SentimentListing(MRJob):\n",
        "\n",
        "    def mapper(self, _,line):\n",
        "        val=line.split(',')\n",
        "        listing_id = int(val[0])\n",
        "        rsc = float(val[3])\n",
        "        if rsc <= 1 and rsc >= -1:\n",
        "            yield listing_id, rsc\n",
        "\n",
        "    def reducer(self, key, values):\n",
        "        count =0\n",
        "        total =0\n",
        "        max =-1\n",
        "        min = 1\n",
        "\n",
        "        for t in values:\n",
        "            count = count + 1\n",
        "            total += t\n",
        "            if(t>max):\n",
        "                max = t\n",
        "            if(t<min):\n",
        "                min = t\n",
        "        yield key , {\"average\":(total /count), \"max\":max, \"min\":min}\n",
        "\n",
        "\n",
        "if __name__ == '__main__':\n",
        "    SentimentListing.run()"
      ]
    },
    {
      "cell_type": "code",
      "execution_count": 179,
      "metadata": {},
      "outputs": [
        {
          "name": "stderr",
          "output_type": "stream",
          "text": [
            "No configs found; falling back on auto-configuration\n",
            "No configs specified for local runner\n",
            "Creating temp directory C:\\Users\\wkwan\\AppData\\Local\\Temp\\sentiment_listing.wkwan.20221216.055026.334946\n",
            "Running step 1 of 1...\n",
            "job output is in C:\\Users\\wkwan\\AppData\\Local\\Temp\\sentiment_listing.wkwan.20221216.055026.334946\\output\n",
            "Streaming final output from C:\\Users\\wkwan\\AppData\\Local\\Temp\\sentiment_listing.wkwan.20221216.055026.334946\\output...\n",
            "Removing temp directory C:\\Users\\wkwan\\AppData\\Local\\Temp\\sentiment_listing.wkwan.20221216.055026.334946...\n"
          ]
        }
      ],
      "source": [
        "!python sentiment_listing.py -r local reviews_with_sentiment.csv --no-bootstrap-mrjob > listing.txt"
      ]
    },
    {
      "cell_type": "code",
      "execution_count": 180,
      "metadata": {},
      "outputs": [
        {
          "name": "stdout",
          "output_type": "stream",
          "text": [
            "Overwriting sentiment_month_and_year.py\n"
          ]
        }
      ],
      "source": [
        "%%file sentiment_month_and_year.py\n",
        "from mrjob.job import MRJob\n",
        "import re\n",
        "\n",
        "DATE_RE = re.compile(r\"[a-zA-Z]* [0-9]{4}\")\n",
        "\n",
        "class SentimentMonthYear(MRJob):\n",
        "\n",
        "    def mapper(self, _, line):\n",
        "        val = line.split(',')\n",
        "        (review_posted_date, review_score_cleaned) = (val[1].strip(), float(val[3]))\n",
        "        if (re.match(DATE_RE, review_posted_date) and (-1 <= review_score_cleaned <= 1)):\n",
        "            yield review_posted_date, review_score_cleaned\n",
        "\n",
        "    def reducer(self, key, values):\n",
        "        total = 0.0\n",
        "        count = 0\n",
        "        max = -1\n",
        "        min = 1\n",
        "        for value in values:\n",
        "            total += value\n",
        "            count += 1\n",
        "            if(value > max):\n",
        "                max = value\n",
        "            if(value < min):\n",
        "                min = value\n",
        "        yield key, {\"average\":(total / count), \"max\":max, \"min\":min}\n",
        "\n",
        "if __name__ == '__main__':\n",
        "    SentimentMonthYear.run()"
      ]
    },
    {
      "cell_type": "code",
      "execution_count": 181,
      "metadata": {},
      "outputs": [
        {
          "name": "stderr",
          "output_type": "stream",
          "text": [
            "No configs found; falling back on auto-configuration\n",
            "No configs specified for local runner\n",
            "Creating temp directory C:\\Users\\wkwan\\AppData\\Local\\Temp\\sentiment_month_and_year.wkwan.20221216.055034.517999\n",
            "Running step 1 of 1...\n",
            "job output is in C:\\Users\\wkwan\\AppData\\Local\\Temp\\sentiment_month_and_year.wkwan.20221216.055034.517999\\output\n",
            "Streaming final output from C:\\Users\\wkwan\\AppData\\Local\\Temp\\sentiment_month_and_year.wkwan.20221216.055034.517999\\output...\n",
            "Removing temp directory C:\\Users\\wkwan\\AppData\\Local\\Temp\\sentiment_month_and_year.wkwan.20221216.055034.517999...\n"
          ]
        }
      ],
      "source": [
        "!python sentiment_month_and_year.py -r local reviews_with_sentiment.csv --no-bootstrap-mrjob > month_year.txt"
      ]
    },
    {
      "cell_type": "code",
      "execution_count": 182,
      "metadata": {},
      "outputs": [
        {
          "name": "stdout",
          "output_type": "stream",
          "text": [
            "Overwriting sentiment_month.py\n"
          ]
        }
      ],
      "source": [
        "%%file sentiment_month.py\n",
        "from mrjob.job import MRJob\n",
        "import re\n",
        "\n",
        "DATE_RE = re.compile(r\"[a-zA-Z]* [0-9]{4}\")\n",
        "\n",
        "class SentimentMonth(MRJob):\n",
        "\n",
        "    def mapper(self, _, line):\n",
        "        val = line.split(',')\n",
        "        (review_posted_date, review_score_cleaned) = (val[1].strip(), float(val[3]))\n",
        "        if (re.match(DATE_RE, review_posted_date) and (-1 <= review_score_cleaned <= 1)):\n",
        "            month = review_posted_date.split()[0]\n",
        "            yield month, review_score_cleaned\n",
        "\n",
        "    def reducer(self, key, values):\n",
        "        total = 0.0\n",
        "        count = 0\n",
        "        max = -1\n",
        "        min = 1\n",
        "        for value in values:\n",
        "            total += value\n",
        "            count += 1\n",
        "            if(value > max):\n",
        "                max = value\n",
        "            if(value < min):\n",
        "                min = value\n",
        "        yield key, {\"average\":(total / count), \"max\":max, \"min\":min}\n",
        "\n",
        "if __name__ == '__main__':\n",
        "    SentimentMonth.run()"
      ]
    },
    {
      "cell_type": "code",
      "execution_count": 183,
      "metadata": {},
      "outputs": [
        {
          "name": "stderr",
          "output_type": "stream",
          "text": [
            "No configs found; falling back on auto-configuration\n",
            "No configs specified for local runner\n",
            "Creating temp directory C:\\Users\\wkwan\\AppData\\Local\\Temp\\sentiment_month.wkwan.20221216.055041.855953\n",
            "Running step 1 of 1...\n",
            "job output is in C:\\Users\\wkwan\\AppData\\Local\\Temp\\sentiment_month.wkwan.20221216.055041.855953\\output\n",
            "Streaming final output from C:\\Users\\wkwan\\AppData\\Local\\Temp\\sentiment_month.wkwan.20221216.055041.855953\\output...\n",
            "Removing temp directory C:\\Users\\wkwan\\AppData\\Local\\Temp\\sentiment_month.wkwan.20221216.055041.855953...\n"
          ]
        }
      ],
      "source": [
        "!python sentiment_month.py -r local reviews_with_sentiment.csv --no-bootstrap-mrjob > month.txt"
      ]
    },
    {
      "cell_type": "code",
      "execution_count": 184,
      "metadata": {},
      "outputs": [
        {
          "name": "stdout",
          "output_type": "stream",
          "text": [
            "Overwriting sentiment_words.py\n"
          ]
        }
      ],
      "source": [
        "%%file sentiment_words.py\n",
        "from mrjob.job import MRJob\n",
        "\n",
        "class SentimentWords(MRJob):\n",
        "\n",
        "    def mapper(self, _, line):\n",
        "        val = line.split(',')\n",
        "        (clean_text, review_score_cleaned) = (val[2].strip(), float(val[3]))\n",
        "        if ((len(clean_text) > 0) and (-1 <= review_score_cleaned <= 1)):\n",
        "            frequency = {}\n",
        "            words = clean_text.split()\n",
        "            for word in words:\n",
        "                if len(word) > 1:\n",
        "                    if word in frequency.keys():\n",
        "                        frequency[word] += 1\n",
        "                    else:\n",
        "                        frequency[word] = 1\n",
        "            sentiment = \"positive\"\n",
        "            if review_score_cleaned <= -0.05:\n",
        "                sentiment = \"negative\"\n",
        "            elif review_score_cleaned < 0.05:\n",
        "                sentiment = \"neutral\"\n",
        "            frequency = dict(sorted(frequency.items(),\n",
        "                                key=lambda item: item[1], reverse=True))\n",
        "            yield sentiment, frequency\n",
        "\n",
        "    def reducer(self, key, values):\n",
        "        total_frequency = {}\n",
        "        for frequency in values:\n",
        "            for word in frequency:\n",
        "                if word in total_frequency.keys():\n",
        "                    total_frequency[word] += frequency[word]\n",
        "                else:\n",
        "                    total_frequency[word] = frequency[word]\n",
        "        total_frequency = dict(filter(lambda item: item[1] > 1, total_frequency.items()))\n",
        "        total_frequency = dict(sorted(total_frequency.items(),\n",
        "                                key=lambda item: item[1], reverse=True))\n",
        "        yield key, total_frequency\n",
        "\n",
        "if __name__ == '__main__':\n",
        "    SentimentWords.run()"
      ]
    },
    {
      "cell_type": "code",
      "execution_count": 185,
      "metadata": {},
      "outputs": [
        {
          "name": "stderr",
          "output_type": "stream",
          "text": [
            "No configs found; falling back on auto-configuration\n",
            "No configs specified for local runner\n",
            "Creating temp directory C:\\Users\\wkwan\\AppData\\Local\\Temp\\sentiment_words.wkwan.20221216.055049.109812\n",
            "Running step 1 of 1...\n",
            "job output is in C:\\Users\\wkwan\\AppData\\Local\\Temp\\sentiment_words.wkwan.20221216.055049.109812\\output\n",
            "Streaming final output from C:\\Users\\wkwan\\AppData\\Local\\Temp\\sentiment_words.wkwan.20221216.055049.109812\\output...\n",
            "Removing temp directory C:\\Users\\wkwan\\AppData\\Local\\Temp\\sentiment_words.wkwan.20221216.055049.109812...\n"
          ]
        }
      ],
      "source": [
        "!python sentiment_words.py -r local reviews_with_sentiment.csv --no-bootstrap-mrjob > words.txt"
      ]
    }
  ],
  "metadata": {
    "colab": {
      "provenance": []
    },
    "kernelspec": {
      "display_name": "Python 3",
      "language": "python",
      "name": "python3"
    },
    "language_info": {
      "codemirror_mode": {
        "name": "ipython",
        "version": 3
      },
      "file_extension": ".py",
      "mimetype": "text/x-python",
      "name": "python",
      "nbconvert_exporter": "python",
      "pygments_lexer": "ipython3",
      "version": "3.8.10"
    },
    "vscode": {
      "interpreter": {
        "hash": "1cc2b5c54b8906007202f0eacccb3029a3309de6a0dd2a6fb711e9fb9613b144"
      }
    }
>>>>>>> 07c9d682a0f8352ff00ebff243663959d8e7f271
  },
  {
   "cell_type": "code",
   "execution_count": 2,
   "metadata": {
    "id": "-O13e9DXL3Sf"
   },
   "outputs": [
    {
     "data": {
      "text/html": [
       "<div>\n",
       "<style scoped>\n",
       "    .dataframe tbody tr th:only-of-type {\n",
       "        vertical-align: middle;\n",
       "    }\n",
       "\n",
       "    .dataframe tbody tr th {\n",
       "        vertical-align: top;\n",
       "    }\n",
       "\n",
       "    .dataframe thead th {\n",
       "        text-align: right;\n",
       "    }\n",
       "</style>\n",
       "<table border=\"1\" class=\"dataframe\">\n",
       "  <thead>\n",
       "    <tr style=\"text-align: right;\">\n",
       "      <th></th>\n",
       "      <th>listing_id</th>\n",
       "      <th>url</th>\n",
       "      <th>review_posted_date</th>\n",
       "      <th>review</th>\n",
       "    </tr>\n",
       "  </thead>\n",
       "  <tbody>\n",
       "    <tr>\n",
       "      <th>0</th>\n",
       "      <td>2595</td>\n",
       "      <td>https://www.airbnb.com/rooms/2595</td>\n",
       "      <td>November 2019</td>\n",
       "      <td>Great location, convenient to everything. Very...</td>\n",
       "    </tr>\n",
       "    <tr>\n",
       "      <th>1</th>\n",
       "      <td>2595</td>\n",
       "      <td>https://www.airbnb.com/rooms/2595</td>\n",
       "      <td>May 2019</td>\n",
       "      <td>Place was so cute and comfy! Host was great an...</td>\n",
       "    </tr>\n",
       "    <tr>\n",
       "      <th>2</th>\n",
       "      <td>2595</td>\n",
       "      <td>https://www.airbnb.com/rooms/2595</td>\n",
       "      <td>May 2019</td>\n",
       "      <td>10 / 10 would stay again</td>\n",
       "    </tr>\n",
       "    <tr>\n",
       "      <th>3</th>\n",
       "      <td>2595</td>\n",
       "      <td>https://www.airbnb.com/rooms/2595</td>\n",
       "      <td>January 2019</td>\n",
       "      <td>The apartment met expectations to how it was i...</td>\n",
       "    </tr>\n",
       "    <tr>\n",
       "      <th>4</th>\n",
       "      <td>2595</td>\n",
       "      <td>https://www.airbnb.com/rooms/2595</td>\n",
       "      <td>December 2018</td>\n",
       "      <td>Great space in a fun old building in NYC. Love...</td>\n",
       "    </tr>\n",
       "  </tbody>\n",
       "</table>\n",
       "</div>"
      ],
      "text/plain": [
       "   listing_id                                url review_posted_date  \\\n",
       "0        2595  https://www.airbnb.com/rooms/2595      November 2019   \n",
       "1        2595  https://www.airbnb.com/rooms/2595           May 2019   \n",
       "2        2595  https://www.airbnb.com/rooms/2595           May 2019   \n",
       "3        2595  https://www.airbnb.com/rooms/2595       January 2019   \n",
       "4        2595  https://www.airbnb.com/rooms/2595      December 2018   \n",
       "\n",
       "                                              review  \n",
       "0  Great location, convenient to everything. Very...  \n",
       "1  Place was so cute and comfy! Host was great an...  \n",
       "2                           10 / 10 would stay again  \n",
       "3  The apartment met expectations to how it was i...  \n",
       "4  Great space in a fun old building in NYC. Love...  "
      ]
     },
     "execution_count": 2,
     "metadata": {},
     "output_type": "execute_result"
    }
   ],
   "source": [
    "df = pd.read_csv(\"NYC_2021_airbnb_reviews_data1.csv\")\n",
    "df.head()"
   ]
  },
  {
   "cell_type": "code",
   "execution_count": 3,
   "metadata": {
    "id": "9IDgaUvRPHQn"
   },
   "outputs": [
    {
     "name": "stdout",
     "output_type": "stream",
     "text": [
      "<class 'pandas.core.frame.DataFrame'>\n",
      "RangeIndex: 17444 entries, 0 to 17443\n",
      "Data columns (total 4 columns):\n",
      " #   Column              Non-Null Count  Dtype \n",
      "---  ------              --------------  ----- \n",
      " 0   listing_id          17444 non-null  int64 \n",
      " 1   url                 17444 non-null  object\n",
      " 2   review_posted_date  17444 non-null  object\n",
      " 3   review              17444 non-null  object\n",
      "dtypes: int64(1), object(3)\n",
      "memory usage: 545.2+ KB\n"
     ]
    }
   ],
   "source": [
    "df.info()"
   ]
  },
  {
   "cell_type": "code",
   "execution_count": 4,
   "metadata": {
    "id": "268KjNqbNd_b"
   },
   "outputs": [
    {
     "data": {
      "text/plain": [
       "219"
      ]
     },
     "execution_count": 4,
     "metadata": {},
     "output_type": "execute_result"
    }
   ],
   "source": [
    "id = df.listing_id.unique()\n",
    "len(id)"
   ]
  },
  {
   "cell_type": "code",
   "execution_count": 5,
   "metadata": {
    "id": "Jhn6xzxfPPKp"
   },
   "outputs": [
    {
     "data": {
      "text/html": [
       "<div>\n",
       "<style scoped>\n",
       "    .dataframe tbody tr th:only-of-type {\n",
       "        vertical-align: middle;\n",
       "    }\n",
       "\n",
       "    .dataframe tbody tr th {\n",
       "        vertical-align: top;\n",
       "    }\n",
       "\n",
       "    .dataframe thead th {\n",
       "        text-align: right;\n",
       "    }\n",
       "</style>\n",
       "<table border=\"1\" class=\"dataframe\">\n",
       "  <thead>\n",
       "    <tr style=\"text-align: right;\">\n",
       "      <th></th>\n",
       "      <th>listing_id</th>\n",
       "      <th>review_posted_date</th>\n",
       "      <th>review</th>\n",
       "    </tr>\n",
       "  </thead>\n",
       "  <tbody>\n",
       "    <tr>\n",
       "      <th>0</th>\n",
       "      <td>2595</td>\n",
       "      <td>November 2019</td>\n",
       "      <td>Great location, convenient to everything. Very...</td>\n",
       "    </tr>\n",
       "    <tr>\n",
       "      <th>1</th>\n",
       "      <td>2595</td>\n",
       "      <td>May 2019</td>\n",
       "      <td>Place was so cute and comfy! Host was great an...</td>\n",
       "    </tr>\n",
       "    <tr>\n",
       "      <th>2</th>\n",
       "      <td>2595</td>\n",
       "      <td>May 2019</td>\n",
       "      <td>10 / 10 would stay again</td>\n",
       "    </tr>\n",
       "    <tr>\n",
       "      <th>3</th>\n",
       "      <td>2595</td>\n",
       "      <td>January 2019</td>\n",
       "      <td>The apartment met expectations to how it was i...</td>\n",
       "    </tr>\n",
       "    <tr>\n",
       "      <th>4</th>\n",
       "      <td>2595</td>\n",
       "      <td>December 2018</td>\n",
       "      <td>Great space in a fun old building in NYC. Love...</td>\n",
       "    </tr>\n",
       "  </tbody>\n",
       "</table>\n",
       "</div>"
      ],
      "text/plain": [
       "   listing_id review_posted_date  \\\n",
       "0        2595      November 2019   \n",
       "1        2595           May 2019   \n",
       "2        2595           May 2019   \n",
       "3        2595       January 2019   \n",
       "4        2595      December 2018   \n",
       "\n",
       "                                              review  \n",
       "0  Great location, convenient to everything. Very...  \n",
       "1  Place was so cute and comfy! Host was great an...  \n",
       "2                           10 / 10 would stay again  \n",
       "3  The apartment met expectations to how it was i...  \n",
       "4  Great space in a fun old building in NYC. Love...  "
      ]
     },
     "execution_count": 5,
     "metadata": {},
     "output_type": "execute_result"
    }
   ],
   "source": [
    "review = df[[\"listing_id\", \"review_posted_date\", \"review\"]]\n",
    "review.head()"
   ]
  },
  {
   "cell_type": "code",
   "execution_count": 6,
   "metadata": {
    "id": "NZYto1ClPhiC"
   },
   "outputs": [
    {
     "data": {
      "text/plain": [
       "'great location convenient to everything very cool space and building'"
      ]
     },
     "execution_count": 6,
     "metadata": {},
     "output_type": "execute_result"
    }
   ],
   "source": [
    "import nltk\n",
    "import re\n",
    "def process(text):\n",
    "    text = text.lower()\n",
    "    text = re.sub('[^a-zA-Z]+', ' ', text).strip()\n",
    "    return(text)\n",
    "process(review['review'][0])"
   ]
  },
  {
   "cell_type": "code",
   "execution_count": 7,
   "metadata": {
    "id": "_K8isW6GP80u"
   },
   "outputs": [
    {
     "data": {
      "text/html": [
       "<div>\n",
       "<style scoped>\n",
       "    .dataframe tbody tr th:only-of-type {\n",
       "        vertical-align: middle;\n",
       "    }\n",
       "\n",
       "    .dataframe tbody tr th {\n",
       "        vertical-align: top;\n",
       "    }\n",
       "\n",
       "    .dataframe thead th {\n",
       "        text-align: right;\n",
       "    }\n",
       "</style>\n",
       "<table border=\"1\" class=\"dataframe\">\n",
       "  <thead>\n",
       "    <tr style=\"text-align: right;\">\n",
       "      <th></th>\n",
       "      <th>listing_id</th>\n",
       "      <th>review_posted_date</th>\n",
       "      <th>review</th>\n",
       "      <th>clean_text</th>\n",
       "    </tr>\n",
       "  </thead>\n",
       "  <tbody>\n",
       "    <tr>\n",
       "      <th>0</th>\n",
       "      <td>2595</td>\n",
       "      <td>November 2019</td>\n",
       "      <td>Great location, convenient to everything. Very...</td>\n",
       "      <td>great location convenient to everything very c...</td>\n",
       "    </tr>\n",
       "    <tr>\n",
       "      <th>1</th>\n",
       "      <td>2595</td>\n",
       "      <td>May 2019</td>\n",
       "      <td>Place was so cute and comfy! Host was great an...</td>\n",
       "      <td>place was so cute and comfy host was great and...</td>\n",
       "    </tr>\n",
       "    <tr>\n",
       "      <th>2</th>\n",
       "      <td>2595</td>\n",
       "      <td>May 2019</td>\n",
       "      <td>10 / 10 would stay again</td>\n",
       "      <td>would stay again</td>\n",
       "    </tr>\n",
       "    <tr>\n",
       "      <th>3</th>\n",
       "      <td>2595</td>\n",
       "      <td>January 2019</td>\n",
       "      <td>The apartment met expectations to how it was i...</td>\n",
       "      <td>the apartment met expectations to how it was i...</td>\n",
       "    </tr>\n",
       "    <tr>\n",
       "      <th>4</th>\n",
       "      <td>2595</td>\n",
       "      <td>December 2018</td>\n",
       "      <td>Great space in a fun old building in NYC. Love...</td>\n",
       "      <td>great space in a fun old building in nyc loved...</td>\n",
       "    </tr>\n",
       "  </tbody>\n",
       "</table>\n",
       "</div>"
      ],
      "text/plain": [
       "   listing_id review_posted_date  \\\n",
       "0        2595      November 2019   \n",
       "1        2595           May 2019   \n",
       "2        2595           May 2019   \n",
       "3        2595       January 2019   \n",
       "4        2595      December 2018   \n",
       "\n",
       "                                              review  \\\n",
       "0  Great location, convenient to everything. Very...   \n",
       "1  Place was so cute and comfy! Host was great an...   \n",
       "2                           10 / 10 would stay again   \n",
       "3  The apartment met expectations to how it was i...   \n",
       "4  Great space in a fun old building in NYC. Love...   \n",
       "\n",
       "                                          clean_text  \n",
       "0  great location convenient to everything very c...  \n",
       "1  place was so cute and comfy host was great and...  \n",
       "2                                   would stay again  \n",
       "3  the apartment met expectations to how it was i...  \n",
       "4  great space in a fun old building in nyc loved...  "
      ]
     },
     "execution_count": 7,
     "metadata": {},
     "output_type": "execute_result"
    }
   ],
   "source": [
    "review['clean_text'] = review['review'].apply(lambda text: process(text))\n",
    "review.head()"
   ]
  },
  {
   "cell_type": "code",
   "execution_count": 8,
   "metadata": {
    "id": "xGXHAzCWQgLH"
   },
   "outputs": [
    {
     "name": "stdout",
     "output_type": "stream",
     "text": [
      "great location convenient to everything very cool space and building\n"
     ]
    },
    {
     "name": "stderr",
     "output_type": "stream",
     "text": [
      "[nltk_data] Downloading package vader_lexicon to\n",
      "[nltk_data]     C:\\Users\\vinny\\AppData\\Roaming\\nltk_data...\n",
      "[nltk_data]   Package vader_lexicon is already up-to-date!\n"
     ]
    },
    {
     "data": {
      "text/plain": [
       "{'neg': 0.0, 'neu': 0.544, 'pos': 0.456, 'compound': 0.7713}"
      ]
     },
     "execution_count": 8,
     "metadata": {},
     "output_type": "execute_result"
    }
   ],
   "source": [
    "nltk.download('vader_lexicon')\n",
    "from nltk.sentiment.vader import SentimentIntensityAnalyzer\n",
    "analyzer = SentimentIntensityAnalyzer()\n",
    "text = review['clean_text'][0]\n",
    "print(text)\n",
    "analyzer.polarity_scores(text)"
   ]
  },
  {
   "cell_type": "code",
   "execution_count": 9,
   "metadata": {},
   "outputs": [
    {
     "data": {
      "text/html": [
       "<div>\n",
       "<style scoped>\n",
       "    .dataframe tbody tr th:only-of-type {\n",
       "        vertical-align: middle;\n",
       "    }\n",
       "\n",
       "    .dataframe tbody tr th {\n",
       "        vertical-align: top;\n",
       "    }\n",
       "\n",
       "    .dataframe thead th {\n",
       "        text-align: right;\n",
       "    }\n",
       "</style>\n",
       "<table border=\"1\" class=\"dataframe\">\n",
       "  <thead>\n",
       "    <tr style=\"text-align: right;\">\n",
       "      <th></th>\n",
       "      <th>listing_id</th>\n",
       "      <th>review_posted_date</th>\n",
       "      <th>review</th>\n",
       "      <th>clean_text</th>\n",
       "      <th>review_score_cleaned</th>\n",
       "    </tr>\n",
       "  </thead>\n",
       "  <tbody>\n",
       "    <tr>\n",
       "      <th>0</th>\n",
       "      <td>2595</td>\n",
       "      <td>November 2019</td>\n",
       "      <td>Great location, convenient to everything. Very...</td>\n",
       "      <td>great location convenient to everything very c...</td>\n",
       "      <td>0.7713</td>\n",
       "    </tr>\n",
       "    <tr>\n",
       "      <th>1</th>\n",
       "      <td>2595</td>\n",
       "      <td>May 2019</td>\n",
       "      <td>Place was so cute and comfy! Host was great an...</td>\n",
       "      <td>place was so cute and comfy host was great and...</td>\n",
       "      <td>0.9506</td>\n",
       "    </tr>\n",
       "    <tr>\n",
       "      <th>2</th>\n",
       "      <td>2595</td>\n",
       "      <td>May 2019</td>\n",
       "      <td>10 / 10 would stay again</td>\n",
       "      <td>would stay again</td>\n",
       "      <td>0.0000</td>\n",
       "    </tr>\n",
       "    <tr>\n",
       "      <th>3</th>\n",
       "      <td>2595</td>\n",
       "      <td>January 2019</td>\n",
       "      <td>The apartment met expectations to how it was i...</td>\n",
       "      <td>the apartment met expectations to how it was i...</td>\n",
       "      <td>0.5829</td>\n",
       "    </tr>\n",
       "    <tr>\n",
       "      <th>4</th>\n",
       "      <td>2595</td>\n",
       "      <td>December 2018</td>\n",
       "      <td>Great space in a fun old building in NYC. Love...</td>\n",
       "      <td>great space in a fun old building in nyc loved...</td>\n",
       "      <td>0.9062</td>\n",
       "    </tr>\n",
       "  </tbody>\n",
       "</table>\n",
       "</div>"
      ],
      "text/plain": [
       "   listing_id review_posted_date  \\\n",
       "0        2595      November 2019   \n",
       "1        2595           May 2019   \n",
       "2        2595           May 2019   \n",
       "3        2595       January 2019   \n",
       "4        2595      December 2018   \n",
       "\n",
       "                                              review  \\\n",
       "0  Great location, convenient to everything. Very...   \n",
       "1  Place was so cute and comfy! Host was great an...   \n",
       "2                           10 / 10 would stay again   \n",
       "3  The apartment met expectations to how it was i...   \n",
       "4  Great space in a fun old building in NYC. Love...   \n",
       "\n",
       "                                          clean_text  review_score_cleaned  \n",
       "0  great location convenient to everything very c...                0.7713  \n",
       "1  place was so cute and comfy host was great and...                0.9506  \n",
       "2                                   would stay again                0.0000  \n",
       "3  the apartment met expectations to how it was i...                0.5829  \n",
       "4  great space in a fun old building in nyc loved...                0.9062  "
      ]
     },
     "execution_count": 9,
     "metadata": {},
     "output_type": "execute_result"
    }
   ],
   "source": [
    "review['review_score_cleaned'] = review['clean_text'].apply(lambda x:analyzer.polarity_scores(x)['compound'])\n",
    "review.head()"
   ]
  },
  {
   "cell_type": "code",
   "execution_count": 10,
   "metadata": {},
   "outputs": [],
   "source": [
    "review.drop('review', axis=1, inplace=True)"
   ]
  },
  {
   "cell_type": "code",
   "execution_count": 11,
   "metadata": {},
   "outputs": [],
   "source": [
    "review.to_csv(\"reviews_with_sentiment.csv\", header=False, index=False)"
   ]
  },
  {
   "cell_type": "code",
   "execution_count": 12,
   "metadata": {},
   "outputs": [
    {
     "data": {
      "text/plain": [
       "<AxesSubplot:>"
      ]
     },
     "execution_count": 12,
     "metadata": {},
     "output_type": "execute_result"
    },
    {
     "data": {
      "image/png": "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\n",
      "text/plain": [
       "<Figure size 640x480 with 1 Axes>"
      ]
     },
     "metadata": {},
     "output_type": "display_data"
    }
   ],
   "source": [
    "import matplotlib as plt\n",
    "review[\"review_score_cleaned\"].hist()"
   ]
  },
  {
   "cell_type": "markdown",
   "metadata": {},
   "source": [
    "!python sentiment_month_and_year.py -r local reviews_with_sentiment.csv --no-bootstrap-mrjob"
   ]
  },
  {
   "cell_type": "markdown",
   "metadata": {},
   "source": [
    "Addon\n",
    "1. mapreduce: look for the average (min and max too?) review_score_cleaned (sentiment) of each listing\n",
    "2. mapreduce: look for the average review_score_cleaned of each month and year\n",
    "3. mapreduce: ... of each month only\n",
    "4. box plot of the review_score_cleaned of each listing\n",
    "5. line graph of review_score_cleaned vs review_posted_date of each listing"
   ]
  },
  {
   "cell_type": "code",
   "execution_count": 13,
   "metadata": {},
   "outputs": [
    {
     "name": "stdout",
     "output_type": "stream",
     "text": [
      "Overwriting sentiment_listing.py\n"
     ]
    }
   ],
   "source": [
    "%%file sentiment_listing.py\n",
    "from mrjob.job import MRJob\n",
    "\n",
    "class SentimentListing(MRJob):\n",
    "\n",
    "    def mapper(self, _,line):\n",
    "        val=line.split(',')\n",
    "        listing_id = int(val[0])\n",
    "        rsc = float(val[3])\n",
    "        if rsc <= 1 and rsc >= -1:\n",
    "            yield listing_id, rsc\n",
    "\n",
    "    def reducer(self, key, values):\n",
    "        count =0\n",
    "        total =0\n",
    "        max =-1\n",
    "        min = 1\n",
    "\n",
    "        for t in values:\n",
    "            count = count + 1\n",
    "            total += t\n",
    "            if(t>max):\n",
    "                max = t\n",
    "            if(t<min):\n",
    "                min = t\n",
    "        yield key , {\"average\":(total /count), \"max\":max, \"min\":min}\n",
    "\n",
    "\n",
    "if __name__ == '__main__':\n",
    "    SentimentListing.run()"
   ]
  },
  {
   "cell_type": "code",
   "execution_count": 14,
   "metadata": {},
   "outputs": [
    {
     "name": "stderr",
     "output_type": "stream",
     "text": [
      "No configs found; falling back on auto-configuration\n",
      "No configs specified for local runner\n",
      "Creating temp directory C:\\Users\\vinny\\AppData\\Local\\Temp\\sentiment_listing.vinny.20221216.043451.674066\n",
      "Running step 1 of 1...\n",
      "job output is in C:\\Users\\vinny\\AppData\\Local\\Temp\\sentiment_listing.vinny.20221216.043451.674066\\output\n",
      "Streaming final output from C:\\Users\\vinny\\AppData\\Local\\Temp\\sentiment_listing.vinny.20221216.043451.674066\\output...\n",
      "Removing temp directory C:\\Users\\vinny\\AppData\\Local\\Temp\\sentiment_listing.vinny.20221216.043451.674066...\n"
     ]
    }
   ],
   "source": [
    "!python sentiment_listing.py -r local reviews_with_sentiment.csv --no-bootstrap-mrjob > listing.txt"
   ]
  },
  {
   "cell_type": "code",
   "execution_count": 60,
   "metadata": {},
   "outputs": [
    {
     "data": {
      "text/plain": [
       "{'whiskers': [<matplotlib.lines.Line2D at 0x24475d5acd0>,\n",
       "  <matplotlib.lines.Line2D at 0x24475d5afa0>],\n",
       " 'caps': [<matplotlib.lines.Line2D at 0x24475d6a160>,\n",
       "  <matplotlib.lines.Line2D at 0x24475d6a460>],\n",
       " 'boxes': [<matplotlib.lines.Line2D at 0x24475d5aa00>],\n",
       " 'medians': [<matplotlib.lines.Line2D at 0x24475d6a730>],\n",
       " 'fliers': [<matplotlib.lines.Line2D at 0x24475d6aa00>],\n",
       " 'means': []}"
      ]
     },
     "execution_count": 60,
     "metadata": {},
     "output_type": "execute_result"
    },
    {
     "data": {
      "image/png": "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\n",
      "text/plain": [
       "<Figure size 640x480 with 1 Axes>"
      ]
     },
     "metadata": {},
     "output_type": "display_data"
    }
   ],
   "source": [
    "import matplotlib.pyplot as box\n",
    "data = pd.read_csv('listing.txt', sep=\"\\t\", header=None)\n",
    "data.columns = [\"listing_id\",\"stats\"]\n",
    "for i, row in data.iterrows():\n",
    "    data.at[i,\"stats\"] = re.sub('[^0-9\\.\\,]','',data.at[i,\"stats\"])\n",
    "#data[\"stats\"]\n",
    "data[[\"average\",\"max\",\"min\"]] = data[\"stats\"].str.split(pat=',',expand=True)\n",
    "for i, row in data.iterrows():\n",
    "    data.at[i,\"average\"] = float(data.at[i,\"average\"])\n",
    "    data.at[i,\"max\"] = float(data.at[i,\"max\"])\n",
    "    data.at[i,\"min\"] = float(data.at[i,\"min\"])\n",
    "box.boxplot(data[\"average\"])"
   ]
  },
  {
   "cell_type": "markdown",
   "metadata": {},
   "source": [
    "*********\n",
    "hey Wesley, the line graph is a still a mess after turning the dates into datetime objects. They are still datetime objects, so if you know which direction to go with this graph, you can use review['review_posted_date']\n",
    "*********"
   ]
  },
  {
   "cell_type": "code",
   "execution_count": 79,
   "metadata": {},
   "outputs": [
    {
     "data": {
      "text/plain": [
       "0        11-2019\n",
       "1        05-2019\n",
       "2        05-2019\n",
       "3        01-2019\n",
       "4        12-2018\n",
       "          ...   \n",
       "17439    02-2022\n",
       "17440    01-2022\n",
       "17441    12-2021\n",
       "17442    11-2021\n",
       "17443    11-2021\n",
       "Name: review_posted_date, Length: 17444, dtype: object"
      ]
     },
     "execution_count": 79,
     "metadata": {},
     "output_type": "execute_result"
    }
   ],
   "source": [
    "import datetime as dt\n",
    "review['review_posted_date'] = pd.to_datetime(review['review_posted_date']).dt.to_period('m')\n",
    "review['review_posted_date'] =review['review_posted_date'].dt.to_timestamp('s').dt.strftime('%m-%Y')\n",
    "review['review_posted_date']\n",
    "#box.plot(review[\"review_posted_date\"],review[\"review_score_cleaned\"])"
   ]
  },
  {
   "cell_type": "code",
   "execution_count": 15,
   "metadata": {},
   "outputs": [
    {
     "name": "stdout",
     "output_type": "stream",
     "text": [
      "Overwriting sentiment_month_and_year.py\n"
     ]
    }
   ],
   "source": [
    "%%file sentiment_month_and_year.py\n",
    "from mrjob.job import MRJob\n",
    "import re\n",
    "\n",
    "DATE_RE = re.compile(r\"[a-zA-Z]* [0-9]{4}\")\n",
    "\n",
    "class SentimentMonthYear(MRJob):\n",
    "\n",
    "    def mapper(self, _, line):\n",
    "        val = line.split(',')\n",
    "        (review_posted_date, review_score_cleaned) = (val[1].strip(), float(val[3]))\n",
    "        if (re.match(DATE_RE, review_posted_date) and (-1 <= review_score_cleaned <= 1)):\n",
    "            yield review_posted_date, review_score_cleaned\n",
    "\n",
    "    def reducer(self, key, values):\n",
    "        total = 0.0\n",
    "        count = 0\n",
    "        max = -1\n",
    "        min = 1\n",
    "        for value in values:\n",
    "            total += value\n",
    "            count += 1\n",
    "            if(value > max):\n",
    "                max = value\n",
    "            if(value < min):\n",
    "                min = value\n",
    "        yield key, {\"average\":(total / count), \"max\":max, \"min\":min}\n",
    "\n",
    "if __name__ == '__main__':\n",
    "    SentimentMonthYear.run()"
   ]
  },
  {
   "cell_type": "code",
   "execution_count": 16,
   "metadata": {},
   "outputs": [
    {
     "name": "stderr",
     "output_type": "stream",
     "text": [
      "No configs found; falling back on auto-configuration\n",
      "No configs specified for local runner\n",
      "Creating temp directory C:\\Users\\vinny\\AppData\\Local\\Temp\\sentiment_month_and_year.vinny.20221216.043514.931789\n",
      "Running step 1 of 1...\n",
      "job output is in C:\\Users\\vinny\\AppData\\Local\\Temp\\sentiment_month_and_year.vinny.20221216.043514.931789\\output\n",
      "Streaming final output from C:\\Users\\vinny\\AppData\\Local\\Temp\\sentiment_month_and_year.vinny.20221216.043514.931789\\output...\n",
      "Removing temp directory C:\\Users\\vinny\\AppData\\Local\\Temp\\sentiment_month_and_year.vinny.20221216.043514.931789...\n"
     ]
    }
   ],
   "source": [
    "!python sentiment_month_and_year.py -r local reviews_with_sentiment.csv --no-bootstrap-mrjob > month_year.txt"
   ]
  },
  {
   "cell_type": "code",
   "execution_count": 17,
   "metadata": {},
   "outputs": [
    {
     "name": "stdout",
     "output_type": "stream",
     "text": [
      "Overwriting sentiment_month.py\n"
     ]
    }
   ],
   "source": [
    "%%file sentiment_month.py\n",
    "from mrjob.job import MRJob\n",
    "import re\n",
    "\n",
    "DATE_RE = re.compile(r\"[a-zA-Z]* [0-9]{4}\")\n",
    "\n",
    "class SentimentMonth(MRJob):\n",
    "\n",
    "    def mapper(self, _, line):\n",
    "        val = line.split(',')\n",
    "        (review_posted_date, review_score_cleaned) = (val[1].strip(), float(val[3]))\n",
    "        if (re.match(DATE_RE, review_posted_date) and (-1 <= review_score_cleaned <= 1)):\n",
    "            month = review_posted_date.split()[0]\n",
    "            yield month, review_score_cleaned\n",
    "\n",
    "    def reducer(self, key, values):\n",
    "        total = 0.0\n",
    "        count = 0\n",
    "        max = -1\n",
    "        min = 1\n",
    "        for value in values:\n",
    "            total += value\n",
    "            count += 1\n",
    "            if(value > max):\n",
    "                max = value\n",
    "            if(value < min):\n",
    "                min = value\n",
    "        yield key, {\"average\":(total / count), \"max\":max, \"min\":min}\n",
    "\n",
    "if __name__ == '__main__':\n",
    "    SentimentMonth.run()"
   ]
  },
  {
   "cell_type": "code",
   "execution_count": 18,
   "metadata": {
    "scrolled": true
   },
   "outputs": [
    {
     "name": "stderr",
     "output_type": "stream",
     "text": [
      "No configs found; falling back on auto-configuration\n",
      "No configs specified for local runner\n",
      "Creating temp directory C:\\Users\\vinny\\AppData\\Local\\Temp\\sentiment_month.vinny.20221216.043537.797926\n",
      "Running step 1 of 1...\n",
      "job output is in C:\\Users\\vinny\\AppData\\Local\\Temp\\sentiment_month.vinny.20221216.043537.797926\\output\n",
      "Streaming final output from C:\\Users\\vinny\\AppData\\Local\\Temp\\sentiment_month.vinny.20221216.043537.797926\\output...\n",
      "Removing temp directory C:\\Users\\vinny\\AppData\\Local\\Temp\\sentiment_month.vinny.20221216.043537.797926...\n"
     ]
    }
   ],
   "source": [
    "!python sentiment_month.py -r local reviews_with_sentiment.csv --no-bootstrap-mrjob > month.txt"
   ]
  },
  {
   "cell_type": "code",
   "execution_count": null,
   "metadata": {},
   "outputs": [],
   "source": []
  }
 ],
 "metadata": {
  "colab": {
   "provenance": []
  },
  "kernelspec": {
   "display_name": "Python 3 (ipykernel)",
   "language": "python",
   "name": "python3"
  },
  "language_info": {
   "codemirror_mode": {
    "name": "ipython",
    "version": 3
   },
   "file_extension": ".py",
   "mimetype": "text/x-python",
   "name": "python",
   "nbconvert_exporter": "python",
   "pygments_lexer": "ipython3",
   "version": "3.9.13"
  },
  "vscode": {
   "interpreter": {
    "hash": "1cc2b5c54b8906007202f0eacccb3029a3309de6a0dd2a6fb711e9fb9613b144"
   }
  }
 },
 "nbformat": 4,
 "nbformat_minor": 1
}
