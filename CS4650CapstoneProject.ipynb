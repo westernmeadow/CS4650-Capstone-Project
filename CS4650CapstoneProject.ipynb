{
 "cells": [
  {
   "cell_type": "code",
   "execution_count": null,
   "metadata": {
    "id": "5I6QGpk-KNk-"
   },
   "outputs": [],
   "source": [
    "import numpy as np\n",
    "import pandas as pd"
   ]
  },
  {
   "cell_type": "code",
   "execution_count": null,
   "metadata": {
    "id": "-O13e9DXL3Sf"
   },
   "outputs": [],
   "source": [
    "df = pd.read_csv(\"NYC_2021_airbnb_reviews_data1.csv\")\n",
    "df.head()"
   ]
  },
  {
   "cell_type": "code",
   "execution_count": null,
   "metadata": {
    "id": "9IDgaUvRPHQn"
   },
   "outputs": [],
   "source": [
    "df.info()"
   ]
  },
  {
   "cell_type": "code",
   "execution_count": null,
   "metadata": {
    "id": "268KjNqbNd_b"
   },
   "outputs": [],
   "source": [
    "id = df.listing_id.unique()\n",
    "len(id)"
   ]
  },
  {
   "cell_type": "code",
   "execution_count": null,
   "metadata": {
    "id": "Jhn6xzxfPPKp"
   },
   "outputs": [],
   "source": [
    "review = df[[\"listing_id\", \"review_posted_date\", \"review\"]]\n",
    "review.head()"
   ]
  },
  {
   "cell_type": "code",
   "execution_count": null,
   "metadata": {},
   "outputs": [],
   "source": [
    "import nltk\n",
    "nltk.download('stopwords')"
   ]
  },
  {
   "cell_type": "code",
   "execution_count": null,
   "metadata": {
    "id": "NZYto1ClPhiC"
   },
   "outputs": [],
   "source": [
    "from nltk.corpus import stopwords\n",
    "from nltk.tokenize import wordpunct_tokenize\n",
    "import re\n",
    "\n",
    "def process(text):\n",
    "    text = re.sub('[^a-zA-Z]+', ' ', text).strip()\n",
    "    tokens = wordpunct_tokenize(text.lower())\n",
    "    final_stopwords = stopwords.words('english') + stopwords.words('french') + stopwords.words('spanish') + stopwords.words('german')\n",
    "    tokens_wo_stopwords = [t for t in tokens if t not in final_stopwords]\n",
    "    text = \" \".join(tokens_wo_stopwords)\n",
    "    return(text)\n",
    "process(review['review'][0])"
   ]
  },
  {
   "cell_type": "code",
   "execution_count": null,
   "metadata": {
    "id": "_K8isW6GP80u"
   },
   "outputs": [],
   "source": [
    "review['clean_text'] = review['review'].apply(lambda text: process(text))\n",
    "review.head()"
   ]
  },
  {
   "cell_type": "code",
   "execution_count": null,
   "metadata": {},
   "outputs": [],
   "source": [
    "from nltk.sentiment.vader import SentimentIntensityAnalyzer\n",
    "analyzer = SentimentIntensityAnalyzer()\n",
    "text = review['clean_text'][46]\n",
    "print(text)\n",
    "analyzer.polarity_scores(text)\n",
    "analyzer.polarity_scores(\" \")"
   ]
  },
  {
   "cell_type": "code",
   "execution_count": null,
   "metadata": {},
   "outputs": [],
   "source": [
    "review['review_score_cleaned'] = review['clean_text'].apply(lambda x:analyzer.polarity_scores(x)['compound'])\n",
    "review.head()"
   ]
  },
  {
   "cell_type": "code",
   "execution_count": null,
   "metadata": {},
   "outputs": [],
   "source": [
    "review.drop('review', axis=1, inplace=True)"
   ]
  },
  {
   "cell_type": "code",
   "execution_count": null,
   "metadata": {},
   "outputs": [],
   "source": [
    "review.to_csv(\"reviews_with_sentiment.csv\", header=False, index=False)"
   ]
  },
  {
   "cell_type": "code",
   "execution_count": null,
   "metadata": {},
   "outputs": [],
   "source": [
    "from matplotlib import pyplot as plt\n",
    "review[\"review_score_cleaned\"].hist()"
   ]
  },
  {
   "cell_type": "markdown",
   "metadata": {},
   "source": [
    "!python sentiment_month_and_year.py -r local reviews_with_sentiment.csv --no-bootstrap-mrjob"
   ]
  },
  {
   "cell_type": "markdown",
   "metadata": {},
   "source": [
    "Addon\n",
    "1. mapreduce: look for the average (min and max too?) review_score_cleaned (sentiment) of each listing\n",
    "2. mapreduce: look for the average review_score_cleaned of each month and year\n",
    "3. mapreduce: ... of each month only\n",
    "4. box plot of the review_score_cleaned of each listing\n",
    "5. line graph of review_score_cleaned vs review_posted_date of each listing"
   ]
  },
  {
   "cell_type": "code",
   "execution_count": null,
   "metadata": {},
   "outputs": [],
   "source": [
    "%%file sentiment_listing.py\n",
    "from mrjob.job import MRJob\n",
    "\n",
    "class SentimentListing(MRJob):\n",
    "\n",
    "    def mapper(self, _,line):\n",
    "        val=line.split(',')\n",
    "        listing_id = int(val[0])\n",
    "        rsc = float(val[3])\n",
    "        if rsc <= 1 and rsc >= -1:\n",
    "            yield listing_id, rsc\n",
    "\n",
    "    def reducer(self, key, values):\n",
    "        count =0\n",
    "        total =0\n",
    "        max =-1\n",
    "        min = 1\n",
    "\n",
    "        for t in values:\n",
    "            count = count + 1\n",
    "            total += t\n",
    "            if(t>max):\n",
    "                max = t\n",
    "            if(t<min):\n",
    "                min = t\n",
    "        yield key , {\"count\": count, \"average\":(total /count), \"max\":max, \"min\":min}\n",
    "\n",
    "\n",
    "if __name__ == '__main__':\n",
    "    SentimentListing.run()"
   ]
  },
  {
   "cell_type": "code",
   "execution_count": null,
   "metadata": {},
   "outputs": [],
   "source": [
    "!python sentiment_listing.py -r local reviews_with_sentiment.csv --no-bootstrap-mrjob > listing.txt"
   ]
  },
  {
   "cell_type": "code",
   "execution_count": null,
   "metadata": {},
   "outputs": [],
   "source": [
    "import json\n",
    "\n",
    "listing = pd.read_csv(\"listing.txt\", sep=\"\\t\", header=None)\n",
    "listing.columns = [\"listing_id\", \"stats\"]\n",
    "listing[\"stats\"] = [json.loads(e) for e in listing[\"stats\"]]\n",
    "listing[\"count\"] = [int(e[\"count\"]) for e in listing[\"stats\"]]\n",
    "listing[\"average\"] = [float(e[\"average\"]) for e in listing[\"stats\"]]\n",
    "listing[\"max\"] = [float(e[\"max\"]) for e in listing[\"stats\"]]\n",
    "listing[\"min\"] = [float(e[\"min\"]) for e in listing[\"stats\"]]\n",
    "listing.drop(\"stats\", axis=1, inplace=True)\n",
    "listing.head()"
   ]
  },
  {
   "cell_type": "code",
   "execution_count": null,
   "metadata": {},
   "outputs": [],
   "source": [
    "listing = listing[listing['count'] >= 5]\n",
    "listing.info()"
   ]
  },
  {
   "cell_type": "code",
   "execution_count": null,
   "metadata": {},
   "outputs": [],
   "source": [
    "(max_average, max_index) = (-1, 0)\n",
    "(min_average, min_index) = (1, 0)\n",
    "for index, row in listing.iterrows():\n",
    "    if row[\"average\"] > max_average:\n",
    "        max_average = row[\"average\"]\n",
    "        max_index = index\n",
    "    if row[\"average\"] < min_average:\n",
    "        min_average = row[\"average\"]\n",
    "        min_index = index\n",
    "print(f'listing with max average:\\n{listing.loc[max_index]}')\n",
    "print()\n",
    "print(f'listing with min average:\\n{listing.loc[min_index]}')"
   ]
  },
  {
   "cell_type": "code",
   "execution_count": null,
   "metadata": {},
   "outputs": [],
   "source": [
    "group = review.groupby('listing_id')['review_score_cleaned'].apply(list)\n",
    "group = group.reset_index(name='listvalues')\n",
    "group"
   ]
  },
  {
   "cell_type": "markdown",
   "metadata": {},
   "source": [
    "for i in range(1, 6):\n",
    "    end = i * 50\n",
    "    start = end - 50\n",
    "    if i == 5:\n",
    "        end = 218\n",
    "    fig = plt.figure(figsize=(10, 7))\n",
    "    ax = fig.add_subplot(111)\n",
    "    ax.boxplot(group['listvalues'][start: end], vert=1)\n",
    "    ax.set_xticklabels(group['listing_id'][start: end])\n",
    "    ax.set_xlabel('listing_id')\n",
    "    ax.set_ylabel('review_score_cleaned')\n",
    "    plt.xticks(rotation=90)\n",
    "    plt.title(\"Scores of Listing Box Plot\")\n",
    "    plt.savefig(f'boxplots/bp{i}', bbox_inches='tight')"
   ]
  },
  {
   "cell_type": "code",
   "execution_count": null,
   "metadata": {},
   "outputs": [],
   "source": [
    "fig = plt.figure(figsize=(50, 7))\n",
    "ax = fig.add_subplot(111)\n",
    "ax.boxplot(group['listvalues'], vert=1)\n",
    "ax.set_xticklabels(group['listing_id'])\n",
    "ax.set_xlabel('listing_id')\n",
    "ax.set_ylabel('review_score_cleaned')\n",
    "plt.xticks(rotation=90)\n",
    "plt.title(\"Scores of Listing Box Plot\")\n",
    "plt.savefig(f'boxplots/bp_long', bbox_inches='tight')"
   ]
  },
  {
   "cell_type": "code",
   "execution_count": null,
   "metadata": {},
   "outputs": [],
   "source": [
    "import datetime as dt\n",
    "review['review_posted_date'] = pd.to_datetime(review['review_posted_date']).dt.to_period('m')\n",
    "review['review_posted_date'] =review['review_posted_date'].dt.strftime('%Y-%m')\n",
    "review['review_posted_date']"
   ]
  },
  {
   "cell_type": "code",
   "execution_count": null,
   "metadata": {},
   "outputs": [],
   "source": [
    "group2 = review.groupby('review_posted_date')['review_score_cleaned'].apply(list)\n",
    "group2 = group2.reset_index()\n",
    "group2 = group2.sort_values(by='review_posted_date')\n",
    "group2"
   ]
  },
  {
   "cell_type": "code",
   "execution_count": null,
   "metadata": {},
   "outputs": [],
   "source": [
    "fig = plt.figure(figsize=(50, 7))\n",
    "ax = fig.add_subplot(111)\n",
    "ax.boxplot(group2['review_score_cleaned'], vert=1)\n",
    "ax.set_xticklabels(group2['review_posted_date'])\n",
    "ax.set_xlabel('review posted date')\n",
    "ax.set_ylabel('review_score_cleaned')\n",
    "plt.xticks(rotation=90)\n",
    "plt.title(\"Scores of Listing Box Plot\")\n",
    "plt.savefig(f'boxplotsMY/bp_long', bbox_inches='tight')"
   ]
  },
  {
   "cell_type": "code",
   "execution_count": null,
   "metadata": {},
   "outputs": [],
   "source": [
    "month_year = pd.read_csv(\"month_year.txt\", sep=\"\\t\", header=None)\n",
    "month_year.columns = [\"month_year\", \"stats\"]\n",
    "month_year[\"stats\"] = [json.loads(e) for e in month_year[\"stats\"]]\n",
    "month_year[\"count\"] = [int(e[\"count\"]) for e in month_year[\"stats\"]]\n",
    "month_year[\"average\"] = [float(e[\"average\"]) for e in month_year[\"stats\"]]\n",
    "month_year[\"max\"] = [float(e[\"max\"]) for e in month_year[\"stats\"]]\n",
    "month_year[\"min\"] = [float(e[\"min\"]) for e in month_year[\"stats\"]]\n",
    "month_year.drop(\"stats\", axis=1, inplace=True)\n",
    "month_year.head()"
   ]
  },
  {
   "cell_type": "code",
   "execution_count": null,
   "metadata": {},
   "outputs": [],
   "source": [
    "month_year['month_year'] = pd.to_datetime(month_year['month_year']).dt.to_period('m').dt.strftime('%Y-%m')\n",
    "month_year = month_year.sort_values(by='month_year')\n",
    "month_year.head()"
   ]
  },
  {
   "cell_type": "code",
   "execution_count": null,
   "metadata": {},
   "outputs": [],
   "source": [
    "fig = plt.figure(figsize=(50, 7))\n",
    "ax = fig.add_subplot(111)\n",
    "ax.plot(month_year['month_year'], month_year['average'])\n",
    "# ax.set_xticklabels(group2['review_posted_date'])\n",
    "ax.set_xlabel('review posted date')\n",
    "ax.set_ylabel('review_score_cleaned')\n",
    "plt.xticks(rotation=90)\n",
    "plt.title(\"Scores by Month and Year\")\n",
    "plt.savefig(f'linegraphMY/lg_long', bbox_inches='tight')"
   ]
  },
  {
   "cell_type": "code",
   "execution_count": null,
   "metadata": {},
   "outputs": [],
   "source": [
    "month = pd.read_csv(\"month.txt\", sep=\"\\t\", header=None)\n",
    "month.columns = [\"month\", \"stats\"]\n",
    "month[\"stats\"] = [json.loads(e) for e in month[\"stats\"]]\n",
    "month[\"count\"] = [int(e[\"count\"]) for e in month[\"stats\"]]\n",
    "month[\"average\"] = [float(e[\"average\"]) for e in month[\"stats\"]]\n",
    "month[\"max\"] = [float(e[\"max\"]) for e in month[\"stats\"]]\n",
    "month[\"min\"] = [float(e[\"min\"]) for e in month[\"stats\"]]\n",
    "month.drop(\"stats\", axis=1, inplace=True)\n",
    "month.head()"
   ]
  },
  {
   "cell_type": "code",
   "execution_count": null,
   "metadata": {},
   "outputs": [],
   "source": [
    "months = ['January', 'February', 'March', 'April', 'May', 'June', 'July',\n",
    "             'August', 'September', 'October', 'November', 'December']\n",
    "month['month'] = pd.Categorical(month['month'], categories=months, ordered=True)\n",
    "month = month.sort_values(by='month')\n",
    "month.head()"
   ]
  },
  {
   "cell_type": "code",
   "execution_count": null,
   "metadata": {},
   "outputs": [],
   "source": [
    "fig = plt.figure(figsize=(10, 7))\n",
    "ax = fig.add_subplot(111)\n",
    "ax.plot(month['month'], month['average'])\n",
    "# ax.set_xticklabels(group2['review_posted_date'])\n",
    "ax.set_xlabel('review posted date')\n",
    "ax.set_ylabel('review_score_cleaned')\n",
    "plt.xticks(rotation=45)\n",
    "plt.title(\"Scores by Month\")\n",
    "plt.savefig(f'linegraphM/lg_long', bbox_inches='tight')"
   ]
  },
  {
   "cell_type": "code",
   "execution_count": null,
   "metadata": {},
   "outputs": [],
   "source": [
    "%%file sentiment_month_and_year.py\n",
    "from mrjob.job import MRJob\n",
    "import re\n",
    "\n",
    "DATE_RE = re.compile(r\"[a-zA-Z]* [0-9]{4}\")\n",
    "\n",
    "class SentimentMonthYear(MRJob):\n",
    "\n",
    "    def mapper(self, _, line):\n",
    "        val = line.split(',')\n",
    "        (review_posted_date, review_score_cleaned) = (val[1].strip(), float(val[3]))\n",
    "        if (re.match(DATE_RE, review_posted_date) and (-1 <= review_score_cleaned <= 1)):\n",
    "            yield review_posted_date, review_score_cleaned\n",
    "\n",
    "    def reducer(self, key, values):\n",
    "        total = 0.0\n",
    "        count = 0\n",
    "        max = -1\n",
    "        min = 1\n",
    "        for value in values:\n",
    "            total += value\n",
    "            count += 1\n",
    "            if(value > max):\n",
    "                max = value\n",
    "            if(value < min):\n",
    "                min = value\n",
    "        yield key, {\"count\": count, \"average\":(total / count), \"max\":max, \"min\":min}\n",
    "\n",
    "if __name__ == '__main__':\n",
    "    SentimentMonthYear.run()"
   ]
  },
  {
   "cell_type": "code",
   "execution_count": null,
   "metadata": {},
   "outputs": [],
   "source": [
    "!python sentiment_month_and_year.py -r local reviews_with_sentiment.csv --no-bootstrap-mrjob > month_year.txt"
   ]
  },
  {
   "cell_type": "code",
   "execution_count": null,
   "metadata": {},
   "outputs": [],
   "source": [
    "%%file sentiment_month.py\n",
    "from mrjob.job import MRJob\n",
    "import re\n",
    "\n",
    "DATE_RE = re.compile(r\"[a-zA-Z]* [0-9]{4}\")\n",
    "\n",
    "class SentimentMonth(MRJob):\n",
    "\n",
    "    def mapper(self, _, line):\n",
    "        val = line.split(',')\n",
    "        (review_posted_date, review_score_cleaned) = (val[1].strip(), float(val[3]))\n",
    "        if (re.match(DATE_RE, review_posted_date) and (-1 <= review_score_cleaned <= 1)):\n",
    "            month = review_posted_date.split()[0]\n",
    "            yield month, review_score_cleaned\n",
    "\n",
    "    def reducer(self, key, values):\n",
    "        total = 0.0\n",
    "        count = 0\n",
    "        max = -1\n",
    "        min = 1\n",
    "        for value in values:\n",
    "            total += value\n",
    "            count += 1\n",
    "            if(value > max):\n",
    "                max = value\n",
    "            if(value < min):\n",
    "                min = value\n",
    "        yield key, {\"count\": count, \"average\":(total / count), \"max\":max, \"min\":min}\n",
    "\n",
    "if __name__ == '__main__':\n",
    "    SentimentMonth.run()"
   ]
  },
  {
   "cell_type": "code",
   "execution_count": null,
   "metadata": {},
   "outputs": [],
   "source": [
    "!python sentiment_month.py -r local reviews_with_sentiment.csv --no-bootstrap-mrjob > month.txt"
   ]
  },
  {
   "cell_type": "code",
   "execution_count": null,
   "metadata": {},
   "outputs": [],
   "source": [
    "%%file sentiment_words.py\n",
    "from mrjob.job import MRJob\n",
    "\n",
    "class SentimentWords(MRJob):\n",
    "\n",
    "    def mapper(self, _, line):\n",
    "        val = line.split(',')\n",
    "        (clean_text, review_score_cleaned) = (val[2].strip(), float(val[3]))\n",
    "        if ((len(clean_text) > 0) and (-1 <= review_score_cleaned <= 1)):\n",
    "            frequency = {}\n",
    "            words = clean_text.split()\n",
    "            for word in words:\n",
    "                if len(word) > 1:\n",
    "                    if word in frequency.keys():\n",
    "                        frequency[word] += 1\n",
    "                    else:\n",
    "                        frequency[word] = 1\n",
    "            sentiment = \"positive\"\n",
    "            if review_score_cleaned <= -0.05:\n",
    "                sentiment = \"negative\"\n",
    "            elif review_score_cleaned < 0.05:\n",
    "                sentiment = \"neutral\"\n",
    "            frequency = dict(sorted(frequency.items(),\n",
    "                                key=lambda item: item[1], reverse=True))\n",
    "            yield sentiment, frequency\n",
    "\n",
    "    def reducer(self, key, values):\n",
    "        total_frequency = {}\n",
    "        for frequency in values:\n",
    "            for word in frequency:\n",
    "                if word in total_frequency.keys():\n",
    "                    total_frequency[word] += frequency[word]\n",
    "                else:\n",
    "                    total_frequency[word] = frequency[word]\n",
    "        total_frequency = dict(filter(lambda item: item[1] > 1, total_frequency.items()))\n",
    "        total_frequency = dict(sorted(total_frequency.items(),\n",
    "                                key=lambda item: item[1], reverse=True))\n",
    "        yield key, total_frequency\n",
    "\n",
    "if __name__ == '__main__':\n",
    "    SentimentWords.run()"
   ]
  },
  {
   "cell_type": "code",
   "execution_count": null,
   "metadata": {},
   "outputs": [],
   "source": [
    "!python sentiment_words.py -r local reviews_with_sentiment.csv --no-bootstrap-mrjob > words.txt"
   ]
  }
 ],
 "metadata": {
  "colab": {
   "provenance": []
  },
  "kernelspec": {
   "display_name": "Python 3 (ipykernel)",
   "language": "python",
   "name": "python3"
  },
  "language_info": {
   "codemirror_mode": {
    "name": "ipython",
    "version": 3
   },
   "file_extension": ".py",
   "mimetype": "text/x-python",
   "name": "python",
   "nbconvert_exporter": "python",
   "pygments_lexer": "ipython3",
   "version": "3.8.10 (tags/v3.8.10:3d8993a, May  3 2021, 11:48:03) [MSC v.1928 64 bit (AMD64)]"
  },
  "vscode": {
   "interpreter": {
    "hash": "1cc2b5c54b8906007202f0eacccb3029a3309de6a0dd2a6fb711e9fb9613b144"
   }
  }
 },
 "nbformat": 4,
 "nbformat_minor": 1
}
