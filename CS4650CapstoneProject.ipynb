{
  "cells": [
    {
      "cell_type": "code",
      "execution_count": 166,
      "metadata": {
        "id": "5I6QGpk-KNk-"
      },
      "outputs": [],
      "source": [
        "import numpy as np\n",
        "import pandas as pd"
      ]
    },
    {
      "cell_type": "code",
      "execution_count": 167,
      "metadata": {
        "id": "-O13e9DXL3Sf"
      },
      "outputs": [
        {
          "data": {
            "text/html": [
              "<div>\n",
              "<style scoped>\n",
              "    .dataframe tbody tr th:only-of-type {\n",
              "        vertical-align: middle;\n",
              "    }\n",
              "\n",
              "    .dataframe tbody tr th {\n",
              "        vertical-align: top;\n",
              "    }\n",
              "\n",
              "    .dataframe thead th {\n",
              "        text-align: right;\n",
              "    }\n",
              "</style>\n",
              "<table border=\"1\" class=\"dataframe\">\n",
              "  <thead>\n",
              "    <tr style=\"text-align: right;\">\n",
              "      <th></th>\n",
              "      <th>listing_id</th>\n",
              "      <th>url</th>\n",
              "      <th>review_posted_date</th>\n",
              "      <th>review</th>\n",
              "    </tr>\n",
              "  </thead>\n",
              "  <tbody>\n",
              "    <tr>\n",
              "      <th>0</th>\n",
              "      <td>2595</td>\n",
              "      <td>https://www.airbnb.com/rooms/2595</td>\n",
              "      <td>November 2019</td>\n",
              "      <td>Great location, convenient to everything. Very...</td>\n",
              "    </tr>\n",
              "    <tr>\n",
              "      <th>1</th>\n",
              "      <td>2595</td>\n",
              "      <td>https://www.airbnb.com/rooms/2595</td>\n",
              "      <td>May 2019</td>\n",
              "      <td>Place was so cute and comfy! Host was great an...</td>\n",
              "    </tr>\n",
              "    <tr>\n",
              "      <th>2</th>\n",
              "      <td>2595</td>\n",
              "      <td>https://www.airbnb.com/rooms/2595</td>\n",
              "      <td>May 2019</td>\n",
              "      <td>10 / 10 would stay again</td>\n",
              "    </tr>\n",
              "    <tr>\n",
              "      <th>3</th>\n",
              "      <td>2595</td>\n",
              "      <td>https://www.airbnb.com/rooms/2595</td>\n",
              "      <td>January 2019</td>\n",
              "      <td>The apartment met expectations to how it was i...</td>\n",
              "    </tr>\n",
              "    <tr>\n",
              "      <th>4</th>\n",
              "      <td>2595</td>\n",
              "      <td>https://www.airbnb.com/rooms/2595</td>\n",
              "      <td>December 2018</td>\n",
              "      <td>Great space in a fun old building in NYC. Love...</td>\n",
              "    </tr>\n",
              "  </tbody>\n",
              "</table>\n",
              "</div>"
            ],
            "text/plain": [
              "   listing_id                                url review_posted_date  \\\n",
              "0        2595  https://www.airbnb.com/rooms/2595      November 2019   \n",
              "1        2595  https://www.airbnb.com/rooms/2595           May 2019   \n",
              "2        2595  https://www.airbnb.com/rooms/2595           May 2019   \n",
              "3        2595  https://www.airbnb.com/rooms/2595       January 2019   \n",
              "4        2595  https://www.airbnb.com/rooms/2595      December 2018   \n",
              "\n",
              "                                              review  \n",
              "0  Great location, convenient to everything. Very...  \n",
              "1  Place was so cute and comfy! Host was great an...  \n",
              "2                           10 / 10 would stay again  \n",
              "3  The apartment met expectations to how it was i...  \n",
              "4  Great space in a fun old building in NYC. Love...  "
            ]
          },
          "execution_count": 167,
          "metadata": {},
          "output_type": "execute_result"
        }
      ],
      "source": [
        "df = pd.read_csv(\"NYC_2021_airbnb_reviews_data1.csv\")\n",
        "df.head()"
      ]
    },
    {
      "cell_type": "code",
      "execution_count": 168,
      "metadata": {
        "id": "9IDgaUvRPHQn"
      },
      "outputs": [
        {
          "name": "stdout",
          "output_type": "stream",
          "text": [
            "<class 'pandas.core.frame.DataFrame'>\n",
            "RangeIndex: 17444 entries, 0 to 17443\n",
            "Data columns (total 4 columns):\n",
            " #   Column              Non-Null Count  Dtype \n",
            "---  ------              --------------  ----- \n",
            " 0   listing_id          17444 non-null  int64 \n",
            " 1   url                 17444 non-null  object\n",
            " 2   review_posted_date  17444 non-null  object\n",
            " 3   review              17444 non-null  object\n",
            "dtypes: int64(1), object(3)\n",
            "memory usage: 545.2+ KB\n"
          ]
        }
      ],
      "source": [
        "df.info()"
      ]
    },
    {
      "cell_type": "code",
      "execution_count": 169,
      "metadata": {
        "id": "268KjNqbNd_b"
      },
      "outputs": [
        {
          "data": {
            "text/plain": [
              "219"
            ]
          },
          "execution_count": 169,
          "metadata": {},
          "output_type": "execute_result"
        }
      ],
      "source": [
        "id = df.listing_id.unique()\n",
        "len(id)"
      ]
    },
    {
      "cell_type": "code",
      "execution_count": 170,
      "metadata": {
        "id": "Jhn6xzxfPPKp"
      },
      "outputs": [
        {
          "data": {
            "text/html": [
              "<div>\n",
              "<style scoped>\n",
              "    .dataframe tbody tr th:only-of-type {\n",
              "        vertical-align: middle;\n",
              "    }\n",
              "\n",
              "    .dataframe tbody tr th {\n",
              "        vertical-align: top;\n",
              "    }\n",
              "\n",
              "    .dataframe thead th {\n",
              "        text-align: right;\n",
              "    }\n",
              "</style>\n",
              "<table border=\"1\" class=\"dataframe\">\n",
              "  <thead>\n",
              "    <tr style=\"text-align: right;\">\n",
              "      <th></th>\n",
              "      <th>listing_id</th>\n",
              "      <th>review_posted_date</th>\n",
              "      <th>review</th>\n",
              "    </tr>\n",
              "  </thead>\n",
              "  <tbody>\n",
              "    <tr>\n",
              "      <th>0</th>\n",
              "      <td>2595</td>\n",
              "      <td>November 2019</td>\n",
              "      <td>Great location, convenient to everything. Very...</td>\n",
              "    </tr>\n",
              "    <tr>\n",
              "      <th>1</th>\n",
              "      <td>2595</td>\n",
              "      <td>May 2019</td>\n",
              "      <td>Place was so cute and comfy! Host was great an...</td>\n",
              "    </tr>\n",
              "    <tr>\n",
              "      <th>2</th>\n",
              "      <td>2595</td>\n",
              "      <td>May 2019</td>\n",
              "      <td>10 / 10 would stay again</td>\n",
              "    </tr>\n",
              "    <tr>\n",
              "      <th>3</th>\n",
              "      <td>2595</td>\n",
              "      <td>January 2019</td>\n",
              "      <td>The apartment met expectations to how it was i...</td>\n",
              "    </tr>\n",
              "    <tr>\n",
              "      <th>4</th>\n",
              "      <td>2595</td>\n",
              "      <td>December 2018</td>\n",
              "      <td>Great space in a fun old building in NYC. Love...</td>\n",
              "    </tr>\n",
              "  </tbody>\n",
              "</table>\n",
              "</div>"
            ],
            "text/plain": [
              "   listing_id review_posted_date  \\\n",
              "0        2595      November 2019   \n",
              "1        2595           May 2019   \n",
              "2        2595           May 2019   \n",
              "3        2595       January 2019   \n",
              "4        2595      December 2018   \n",
              "\n",
              "                                              review  \n",
              "0  Great location, convenient to everything. Very...  \n",
              "1  Place was so cute and comfy! Host was great an...  \n",
              "2                           10 / 10 would stay again  \n",
              "3  The apartment met expectations to how it was i...  \n",
              "4  Great space in a fun old building in NYC. Love...  "
            ]
          },
          "execution_count": 170,
          "metadata": {},
          "output_type": "execute_result"
        }
      ],
      "source": [
        "review = df[[\"listing_id\", \"review_posted_date\", \"review\"]]\n",
        "review.head()"
      ]
    },
    {
      "cell_type": "code",
      "execution_count": 171,
      "metadata": {
        "id": "NZYto1ClPhiC"
      },
      "outputs": [
        {
          "data": {
            "text/plain": [
              "'great location convenient everything cool space building'"
            ]
          },
          "execution_count": 171,
          "metadata": {},
          "output_type": "execute_result"
        }
      ],
      "source": [
        "from nltk.corpus import stopwords\n",
        "from nltk.tokenize import wordpunct_tokenize\n",
        "import re\n",
        "\n",
        "def process(text):\n",
        "    text = re.sub('[^a-zA-Z]+', ' ', text).strip()\n",
        "    tokens = wordpunct_tokenize(text.lower())\n",
        "    final_stopwords = stopwords.words('english') + stopwords.words('french') + stopwords.words('spanish') + stopwords.words('german')\n",
        "    tokens_wo_stopwords = [t for t in tokens if t not in final_stopwords]\n",
        "    text = \" \".join(tokens_wo_stopwords)\n",
        "    return(text)\n",
        "process(review['review'][0])"
      ]
    },
    {
      "cell_type": "code",
      "execution_count": 172,
      "metadata": {
        "id": "_K8isW6GP80u"
      },
      "outputs": [
        {
          "data": {
            "text/html": [
              "<div>\n",
              "<style scoped>\n",
              "    .dataframe tbody tr th:only-of-type {\n",
              "        vertical-align: middle;\n",
              "    }\n",
              "\n",
              "    .dataframe tbody tr th {\n",
              "        vertical-align: top;\n",
              "    }\n",
              "\n",
              "    .dataframe thead th {\n",
              "        text-align: right;\n",
              "    }\n",
              "</style>\n",
              "<table border=\"1\" class=\"dataframe\">\n",
              "  <thead>\n",
              "    <tr style=\"text-align: right;\">\n",
              "      <th></th>\n",
              "      <th>listing_id</th>\n",
              "      <th>review_posted_date</th>\n",
              "      <th>review</th>\n",
              "      <th>clean_text</th>\n",
              "    </tr>\n",
              "  </thead>\n",
              "  <tbody>\n",
              "    <tr>\n",
              "      <th>0</th>\n",
              "      <td>2595</td>\n",
              "      <td>November 2019</td>\n",
              "      <td>Great location, convenient to everything. Very...</td>\n",
              "      <td>great location convenient everything cool spac...</td>\n",
              "    </tr>\n",
              "    <tr>\n",
              "      <th>1</th>\n",
              "      <td>2595</td>\n",
              "      <td>May 2019</td>\n",
              "      <td>Place was so cute and comfy! Host was great an...</td>\n",
              "      <td>place cute comfy host great quick communicate ...</td>\n",
              "    </tr>\n",
              "    <tr>\n",
              "      <th>2</th>\n",
              "      <td>2595</td>\n",
              "      <td>May 2019</td>\n",
              "      <td>10 / 10 would stay again</td>\n",
              "      <td>would stay</td>\n",
              "    </tr>\n",
              "    <tr>\n",
              "      <th>3</th>\n",
              "      <td>2595</td>\n",
              "      <td>January 2019</td>\n",
              "      <td>The apartment met expectations to how it was i...</td>\n",
              "      <td>apartment met expectations insinuated ad jenni...</td>\n",
              "    </tr>\n",
              "    <tr>\n",
              "      <th>4</th>\n",
              "      <td>2595</td>\n",
              "      <td>December 2018</td>\n",
              "      <td>Great space in a fun old building in NYC. Love...</td>\n",
              "      <td>great space fun old building nyc loved lightin...</td>\n",
              "    </tr>\n",
              "  </tbody>\n",
              "</table>\n",
              "</div>"
            ],
            "text/plain": [
              "   listing_id review_posted_date  \\\n",
              "0        2595      November 2019   \n",
              "1        2595           May 2019   \n",
              "2        2595           May 2019   \n",
              "3        2595       January 2019   \n",
              "4        2595      December 2018   \n",
              "\n",
              "                                              review  \\\n",
              "0  Great location, convenient to everything. Very...   \n",
              "1  Place was so cute and comfy! Host was great an...   \n",
              "2                           10 / 10 would stay again   \n",
              "3  The apartment met expectations to how it was i...   \n",
              "4  Great space in a fun old building in NYC. Love...   \n",
              "\n",
              "                                          clean_text  \n",
              "0  great location convenient everything cool spac...  \n",
              "1  place cute comfy host great quick communicate ...  \n",
              "2                                         would stay  \n",
              "3  apartment met expectations insinuated ad jenni...  \n",
              "4  great space fun old building nyc loved lightin...  "
            ]
          },
          "execution_count": 172,
          "metadata": {},
          "output_type": "execute_result"
        }
      ],
      "source": [
        "review['clean_text'] = review['review'].apply(lambda text: process(text))\n",
        "review.head()"
      ]
    },
    {
      "cell_type": "code",
      "execution_count": 173,
      "metadata": {},
      "outputs": [
        {
          "name": "stdout",
          "output_type": "stream",
          "text": [
            "hebben genoten van ons verblijf het appartement van jennifer prima centraal gelegen ook v openbaar vervoer het daklicht maakt dat het prettig licht ruim aanvoelt enige minpuntje vier trappen\n"
          ]
        },
        {
          "data": {
            "text/plain": [
              "{'neg': 0.0, 'neu': 0.0, 'pos': 0.0, 'compound': 0.0}"
            ]
          },
          "execution_count": 173,
          "metadata": {},
          "output_type": "execute_result"
        }
      ],
      "source": [
        "from nltk.sentiment.vader import SentimentIntensityAnalyzer\n",
        "analyzer = SentimentIntensityAnalyzer()\n",
        "text = review['clean_text'][46]\n",
        "print(text)\n",
        "analyzer.polarity_scores(text)\n",
        "analyzer.polarity_scores(\" \")"
      ]
    },
    {
      "cell_type": "code",
      "execution_count": 174,
      "metadata": {},
      "outputs": [
        {
          "data": {
            "text/html": [
              "<div>\n",
              "<style scoped>\n",
              "    .dataframe tbody tr th:only-of-type {\n",
              "        vertical-align: middle;\n",
              "    }\n",
              "\n",
              "    .dataframe tbody tr th {\n",
              "        vertical-align: top;\n",
              "    }\n",
              "\n",
              "    .dataframe thead th {\n",
              "        text-align: right;\n",
              "    }\n",
              "</style>\n",
              "<table border=\"1\" class=\"dataframe\">\n",
              "  <thead>\n",
              "    <tr style=\"text-align: right;\">\n",
              "      <th></th>\n",
              "      <th>listing_id</th>\n",
              "      <th>review_posted_date</th>\n",
              "      <th>review</th>\n",
              "      <th>clean_text</th>\n",
              "      <th>review_score_cleaned</th>\n",
              "    </tr>\n",
              "  </thead>\n",
              "  <tbody>\n",
              "    <tr>\n",
              "      <th>0</th>\n",
              "      <td>2595</td>\n",
              "      <td>November 2019</td>\n",
              "      <td>Great location, convenient to everything. Very...</td>\n",
              "      <td>great location convenient everything cool spac...</td>\n",
              "      <td>0.7506</td>\n",
              "    </tr>\n",
              "    <tr>\n",
              "      <th>1</th>\n",
              "      <td>2595</td>\n",
              "      <td>May 2019</td>\n",
              "      <td>Place was so cute and comfy! Host was great an...</td>\n",
              "      <td>place cute comfy host great quick communicate ...</td>\n",
              "      <td>0.9432</td>\n",
              "    </tr>\n",
              "    <tr>\n",
              "      <th>2</th>\n",
              "      <td>2595</td>\n",
              "      <td>May 2019</td>\n",
              "      <td>10 / 10 would stay again</td>\n",
              "      <td>would stay</td>\n",
              "      <td>0.0000</td>\n",
              "    </tr>\n",
              "    <tr>\n",
              "      <th>3</th>\n",
              "      <td>2595</td>\n",
              "      <td>January 2019</td>\n",
              "      <td>The apartment met expectations to how it was i...</td>\n",
              "      <td>apartment met expectations insinuated ad jenni...</td>\n",
              "      <td>0.7506</td>\n",
              "    </tr>\n",
              "    <tr>\n",
              "      <th>4</th>\n",
              "      <td>2595</td>\n",
              "      <td>December 2018</td>\n",
              "      <td>Great space in a fun old building in NYC. Love...</td>\n",
              "      <td>great space fun old building nyc loved lightin...</td>\n",
              "      <td>0.9062</td>\n",
              "    </tr>\n",
              "  </tbody>\n",
              "</table>\n",
              "</div>"
            ],
            "text/plain": [
              "   listing_id review_posted_date  \\\n",
              "0        2595      November 2019   \n",
              "1        2595           May 2019   \n",
              "2        2595           May 2019   \n",
              "3        2595       January 2019   \n",
              "4        2595      December 2018   \n",
              "\n",
              "                                              review  \\\n",
              "0  Great location, convenient to everything. Very...   \n",
              "1  Place was so cute and comfy! Host was great an...   \n",
              "2                           10 / 10 would stay again   \n",
              "3  The apartment met expectations to how it was i...   \n",
              "4  Great space in a fun old building in NYC. Love...   \n",
              "\n",
              "                                          clean_text  review_score_cleaned  \n",
              "0  great location convenient everything cool spac...                0.7506  \n",
              "1  place cute comfy host great quick communicate ...                0.9432  \n",
              "2                                         would stay                0.0000  \n",
              "3  apartment met expectations insinuated ad jenni...                0.7506  \n",
              "4  great space fun old building nyc loved lightin...                0.9062  "
            ]
          },
          "execution_count": 174,
          "metadata": {},
          "output_type": "execute_result"
        }
      ],
      "source": [
        "review['review_score_cleaned'] = review['clean_text'].apply(lambda x:analyzer.polarity_scores(x)['compound'])\n",
        "review.head()"
      ]
    },
    {
      "cell_type": "code",
      "execution_count": 175,
      "metadata": {},
      "outputs": [],
      "source": [
        "review.drop('review', axis=1, inplace=True)"
      ]
    },
    {
      "cell_type": "code",
      "execution_count": 176,
      "metadata": {},
      "outputs": [],
      "source": [
        "review.to_csv(\"reviews_with_sentiment.csv\", header=False, index=False)"
      ]
    },
    {
      "cell_type": "code",
      "execution_count": 177,
      "metadata": {},
      "outputs": [
        {
          "data": {
            "text/plain": [
              "<AxesSubplot: >"
            ]
          },
          "execution_count": 177,
          "metadata": {},
          "output_type": "execute_result"
        },
        {
          "data": {
            "image/png": "[encoded data removed]",
            "text/plain": [
              "<Figure size 640x480 with 1 Axes>"
            ]
          },
          "metadata": {},
          "output_type": "display_data"
        }
      ],
      "source": [
        "import matplotlib as plt\n",
        "review[\"review_score_cleaned\"].hist()"
      ]
    },
    {
      "cell_type": "markdown",
      "metadata": {},
      "source": [
        "!python sentiment_month_and_year.py -r local reviews_with_sentiment.csv --no-bootstrap-mrjob"
      ]
    },
    {
      "attachments": {},
      "cell_type": "markdown",
      "metadata": {},
      "source": [
        "Addon\n",
        "1. mapreduce: look for the average (min and max too?) review_score_cleaned (sentiment) of each listing\n",
        "2. mapreduce: look for the average review_score_cleaned of each month and year\n",
        "3. mapreduce: ... of each month only\n",
        "4. box plot of the review_score_cleaned of each listing\n",
        "5. line graph of review_score_cleaned vs review_posted_date of each listing"
      ]
    },
    {
      "cell_type": "code",
      "execution_count": 178,
      "metadata": {},
      "outputs": [
        {
          "name": "stdout",
          "output_type": "stream",
          "text": [
            "Overwriting sentiment_listing.py\n"
          ]
        }
      ],
      "source": [
        "%%file sentiment_listing.py\n",
        "from mrjob.job import MRJob\n",
        "\n",
        "class SentimentListing(MRJob):\n",
        "\n",
        "    def mapper(self, _,line):\n",
        "        val=line.split(',')\n",
        "        listing_id = int(val[0])\n",
        "        rsc = float(val[3])\n",
        "        if rsc <= 1 and rsc >= -1:\n",
        "            yield listing_id, rsc\n",
        "\n",
        "    def reducer(self, key, values):\n",
        "        count =0\n",
        "        total =0\n",
        "        max =-1\n",
        "        min = 1\n",
        "\n",
        "        for t in values:\n",
        "            count = count + 1\n",
        "            total += t\n",
        "            if(t>max):\n",
        "                max = t\n",
        "            if(t<min):\n",
        "                min = t\n",
        "        yield key , {\"average\":(total /count), \"max\":max, \"min\":min}\n",
        "\n",
        "\n",
        "if __name__ == '__main__':\n",
        "    SentimentListing.run()"
      ]
    },
    {
      "cell_type": "code",
      "execution_count": 179,
      "metadata": {},
      "outputs": [
        {
          "name": "stderr",
          "output_type": "stream",
          "text": [
            "No configs found; falling back on auto-configuration\n",
            "No configs specified for local runner\n",
            "Creating temp directory C:\\Users\\wkwan\\AppData\\Local\\Temp\\sentiment_listing.wkwan.20221216.055026.334946\n",
            "Running step 1 of 1...\n",
            "job output is in C:\\Users\\wkwan\\AppData\\Local\\Temp\\sentiment_listing.wkwan.20221216.055026.334946\\output\n",
            "Streaming final output from C:\\Users\\wkwan\\AppData\\Local\\Temp\\sentiment_listing.wkwan.20221216.055026.334946\\output...\n",
            "Removing temp directory C:\\Users\\wkwan\\AppData\\Local\\Temp\\sentiment_listing.wkwan.20221216.055026.334946...\n"
          ]
        }
      ],
      "source": [
        "!python sentiment_listing.py -r local reviews_with_sentiment.csv --no-bootstrap-mrjob > listing.txt"
      ]
    },
    {
      "cell_type": "code",
      "execution_count": 180,
      "metadata": {},
      "outputs": [
        {
          "name": "stdout",
          "output_type": "stream",
          "text": [
            "Overwriting sentiment_month_and_year.py\n"
          ]
        }
      ],
      "source": [
        "%%file sentiment_month_and_year.py\n",
        "from mrjob.job import MRJob\n",
        "import re\n",
        "\n",
        "DATE_RE = re.compile(r\"[a-zA-Z]* [0-9]{4}\")\n",
        "\n",
        "class SentimentMonthYear(MRJob):\n",
        "\n",
        "    def mapper(self, _, line):\n",
        "        val = line.split(',')\n",
        "        (review_posted_date, review_score_cleaned) = (val[1].strip(), float(val[3]))\n",
        "        if (re.match(DATE_RE, review_posted_date) and (-1 <= review_score_cleaned <= 1)):\n",
        "            yield review_posted_date, review_score_cleaned\n",
        "\n",
        "    def reducer(self, key, values):\n",
        "        total = 0.0\n",
        "        count = 0\n",
        "        max = -1\n",
        "        min = 1\n",
        "        for value in values:\n",
        "            total += value\n",
        "            count += 1\n",
        "            if(value > max):\n",
        "                max = value\n",
        "            if(value < min):\n",
        "                min = value\n",
        "        yield key, {\"average\":(total / count), \"max\":max, \"min\":min}\n",
        "\n",
        "if __name__ == '__main__':\n",
        "    SentimentMonthYear.run()"
      ]
    },
    {
      "cell_type": "code",
      "execution_count": 181,
      "metadata": {},
      "outputs": [
        {
          "name": "stderr",
          "output_type": "stream",
          "text": [
            "No configs found; falling back on auto-configuration\n",
            "No configs specified for local runner\n",
            "Creating temp directory C:\\Users\\wkwan\\AppData\\Local\\Temp\\sentiment_month_and_year.wkwan.20221216.055034.517999\n",
            "Running step 1 of 1...\n",
            "job output is in C:\\Users\\wkwan\\AppData\\Local\\Temp\\sentiment_month_and_year.wkwan.20221216.055034.517999\\output\n",
            "Streaming final output from C:\\Users\\wkwan\\AppData\\Local\\Temp\\sentiment_month_and_year.wkwan.20221216.055034.517999\\output...\n",
            "Removing temp directory C:\\Users\\wkwan\\AppData\\Local\\Temp\\sentiment_month_and_year.wkwan.20221216.055034.517999...\n"
          ]
        }
      ],
      "source": [
        "!python sentiment_month_and_year.py -r local reviews_with_sentiment.csv --no-bootstrap-mrjob > month_year.txt"
      ]
    },
    {
      "cell_type": "code",
      "execution_count": 182,
      "metadata": {},
      "outputs": [
        {
          "name": "stdout",
          "output_type": "stream",
          "text": [
            "Overwriting sentiment_month.py\n"
          ]
        }
      ],
      "source": [
        "%%file sentiment_month.py\n",
        "from mrjob.job import MRJob\n",
        "import re\n",
        "\n",
        "DATE_RE = re.compile(r\"[a-zA-Z]* [0-9]{4}\")\n",
        "\n",
        "class SentimentMonth(MRJob):\n",
        "\n",
        "    def mapper(self, _, line):\n",
        "        val = line.split(',')\n",
        "        (review_posted_date, review_score_cleaned) = (val[1].strip(), float(val[3]))\n",
        "        if (re.match(DATE_RE, review_posted_date) and (-1 <= review_score_cleaned <= 1)):\n",
        "            month = review_posted_date.split()[0]\n",
        "            yield month, review_score_cleaned\n",
        "\n",
        "    def reducer(self, key, values):\n",
        "        total = 0.0\n",
        "        count = 0\n",
        "        max = -1\n",
        "        min = 1\n",
        "        for value in values:\n",
        "            total += value\n",
        "            count += 1\n",
        "            if(value > max):\n",
        "                max = value\n",
        "            if(value < min):\n",
        "                min = value\n",
        "        yield key, {\"average\":(total / count), \"max\":max, \"min\":min}\n",
        "\n",
        "if __name__ == '__main__':\n",
        "    SentimentMonth.run()"
      ]
    },
    {
      "cell_type": "code",
      "execution_count": 183,
      "metadata": {},
      "outputs": [
        {
          "name": "stderr",
          "output_type": "stream",
          "text": [
            "No configs found; falling back on auto-configuration\n",
            "No configs specified for local runner\n",
            "Creating temp directory C:\\Users\\wkwan\\AppData\\Local\\Temp\\sentiment_month.wkwan.20221216.055041.855953\n",
            "Running step 1 of 1...\n",
            "job output is in C:\\Users\\wkwan\\AppData\\Local\\Temp\\sentiment_month.wkwan.20221216.055041.855953\\output\n",
            "Streaming final output from C:\\Users\\wkwan\\AppData\\Local\\Temp\\sentiment_month.wkwan.20221216.055041.855953\\output...\n",
            "Removing temp directory C:\\Users\\wkwan\\AppData\\Local\\Temp\\sentiment_month.wkwan.20221216.055041.855953...\n"
          ]
        }
      ],
      "source": [
        "!python sentiment_month.py -r local reviews_with_sentiment.csv --no-bootstrap-mrjob > month.txt"
      ]
    },
    {
      "cell_type": "code",
      "execution_count": 184,
      "metadata": {},
      "outputs": [
        {
          "name": "stdout",
          "output_type": "stream",
          "text": [
            "Overwriting sentiment_words.py\n"
          ]
        }
      ],
      "source": [
        "%%file sentiment_words.py\n",
        "from mrjob.job import MRJob\n",
        "\n",
        "class SentimentWords(MRJob):\n",
        "\n",
        "    def mapper(self, _, line):\n",
        "        val = line.split(',')\n",
        "        (clean_text, review_score_cleaned) = (val[2].strip(), float(val[3]))\n",
        "        if ((len(clean_text) > 0) and (-1 <= review_score_cleaned <= 1)):\n",
        "            frequency = {}\n",
        "            words = clean_text.split()\n",
        "            for word in words:\n",
        "                if len(word) > 1:\n",
        "                    if word in frequency.keys():\n",
        "                        frequency[word] += 1\n",
        "                    else:\n",
        "                        frequency[word] = 1\n",
        "            sentiment = \"positive\"\n",
        "            if review_score_cleaned <= -0.05:\n",
        "                sentiment = \"negative\"\n",
        "            elif review_score_cleaned < 0.05:\n",
        "                sentiment = \"neutral\"\n",
        "            frequency = dict(sorted(frequency.items(),\n",
        "                                key=lambda item: item[1], reverse=True))\n",
        "            yield sentiment, frequency\n",
        "\n",
        "    def reducer(self, key, values):\n",
        "        total_frequency = {}\n",
        "        for frequency in values:\n",
        "            for word in frequency:\n",
        "                if word in total_frequency.keys():\n",
        "                    total_frequency[word] += frequency[word]\n",
        "                else:\n",
        "                    total_frequency[word] = frequency[word]\n",
        "        total_frequency = dict(filter(lambda item: item[1] > 1, total_frequency.items()))\n",
        "        total_frequency = dict(sorted(total_frequency.items(),\n",
        "                                key=lambda item: item[1], reverse=True))\n",
        "        yield key, total_frequency\n",
        "\n",
        "if __name__ == '__main__':\n",
        "    SentimentWords.run()"
      ]
    },
    {
      "cell_type": "code",
      "execution_count": 185,
      "metadata": {},
      "outputs": [
        {
          "name": "stderr",
          "output_type": "stream",
          "text": [
            "No configs found; falling back on auto-configuration\n",
            "No configs specified for local runner\n",
            "Creating temp directory C:\\Users\\wkwan\\AppData\\Local\\Temp\\sentiment_words.wkwan.20221216.055049.109812\n",
            "Running step 1 of 1...\n",
            "job output is in C:\\Users\\wkwan\\AppData\\Local\\Temp\\sentiment_words.wkwan.20221216.055049.109812\\output\n",
            "Streaming final output from C:\\Users\\wkwan\\AppData\\Local\\Temp\\sentiment_words.wkwan.20221216.055049.109812\\output...\n",
            "Removing temp directory C:\\Users\\wkwan\\AppData\\Local\\Temp\\sentiment_words.wkwan.20221216.055049.109812...\n"
          ]
        }
      ],
      "source": [
        "!python sentiment_words.py -r local reviews_with_sentiment.csv --no-bootstrap-mrjob > words.txt"
      ]
    }
  ],
  "metadata": {
    "colab": {
      "provenance": []
    },
    "kernelspec": {
      "display_name": "Python 3",
      "language": "python",
      "name": "python3"
    },
    "language_info": {
      "codemirror_mode": {
        "name": "ipython",
        "version": 3
      },
      "file_extension": ".py",
      "mimetype": "text/x-python",
      "name": "python",
      "nbconvert_exporter": "python",
      "pygments_lexer": "ipython3",
      "version": "3.8.10"
    },
    "vscode": {
      "interpreter": {
        "hash": "1cc2b5c54b8906007202f0eacccb3029a3309de6a0dd2a6fb711e9fb9613b144"
      }
    }
  },
  "nbformat": 4,
  "nbformat_minor": 0
}
