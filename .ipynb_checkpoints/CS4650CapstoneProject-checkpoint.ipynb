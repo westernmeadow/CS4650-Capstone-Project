{
 "cells": [
  {
   "cell_type": "code",
   "execution_count": 1,
   "metadata": {
    "id": "5I6QGpk-KNk-"
   },
   "outputs": [],
   "source": [
    "import numpy as np\n",
    "import pandas as pd"
   ]
  },
  {
   "cell_type": "code",
   "execution_count": 2,
   "metadata": {
    "id": "-O13e9DXL3Sf"
   },
   "outputs": [
    {
     "data": {
      "text/html": [
       "<div>\n",
       "<style scoped>\n",
       "    .dataframe tbody tr th:only-of-type {\n",
       "        vertical-align: middle;\n",
       "    }\n",
       "\n",
       "    .dataframe tbody tr th {\n",
       "        vertical-align: top;\n",
       "    }\n",
       "\n",
       "    .dataframe thead th {\n",
       "        text-align: right;\n",
       "    }\n",
       "</style>\n",
       "<table border=\"1\" class=\"dataframe\">\n",
       "  <thead>\n",
       "    <tr style=\"text-align: right;\">\n",
       "      <th></th>\n",
       "      <th>listing_id</th>\n",
       "      <th>url</th>\n",
       "      <th>review_posted_date</th>\n",
       "      <th>review</th>\n",
       "    </tr>\n",
       "  </thead>\n",
       "  <tbody>\n",
       "    <tr>\n",
       "      <th>0</th>\n",
       "      <td>2595</td>\n",
       "      <td>https://www.airbnb.com/rooms/2595</td>\n",
       "      <td>November 2019</td>\n",
       "      <td>Great location, convenient to everything. Very...</td>\n",
       "    </tr>\n",
       "    <tr>\n",
       "      <th>1</th>\n",
       "      <td>2595</td>\n",
       "      <td>https://www.airbnb.com/rooms/2595</td>\n",
       "      <td>May 2019</td>\n",
       "      <td>Place was so cute and comfy! Host was great an...</td>\n",
       "    </tr>\n",
       "    <tr>\n",
       "      <th>2</th>\n",
       "      <td>2595</td>\n",
       "      <td>https://www.airbnb.com/rooms/2595</td>\n",
       "      <td>May 2019</td>\n",
       "      <td>10 / 10 would stay again</td>\n",
       "    </tr>\n",
       "    <tr>\n",
       "      <th>3</th>\n",
       "      <td>2595</td>\n",
       "      <td>https://www.airbnb.com/rooms/2595</td>\n",
       "      <td>January 2019</td>\n",
       "      <td>The apartment met expectations to how it was i...</td>\n",
       "    </tr>\n",
       "    <tr>\n",
       "      <th>4</th>\n",
       "      <td>2595</td>\n",
       "      <td>https://www.airbnb.com/rooms/2595</td>\n",
       "      <td>December 2018</td>\n",
       "      <td>Great space in a fun old building in NYC. Love...</td>\n",
       "    </tr>\n",
       "  </tbody>\n",
       "</table>\n",
       "</div>"
      ],
      "text/plain": [
       "   listing_id                                url review_posted_date  \\\n",
       "0        2595  https://www.airbnb.com/rooms/2595      November 2019   \n",
       "1        2595  https://www.airbnb.com/rooms/2595           May 2019   \n",
       "2        2595  https://www.airbnb.com/rooms/2595           May 2019   \n",
       "3        2595  https://www.airbnb.com/rooms/2595       January 2019   \n",
       "4        2595  https://www.airbnb.com/rooms/2595      December 2018   \n",
       "\n",
       "                                              review  \n",
       "0  Great location, convenient to everything. Very...  \n",
       "1  Place was so cute and comfy! Host was great an...  \n",
       "2                           10 / 10 would stay again  \n",
       "3  The apartment met expectations to how it was i...  \n",
       "4  Great space in a fun old building in NYC. Love...  "
      ]
     },
     "execution_count": 2,
     "metadata": {},
     "output_type": "execute_result"
    }
   ],
   "source": [
    "df = pd.read_csv(\"NYC_2021_airbnb_reviews_data1.csv\")\n",
    "df.head()"
   ]
  },
  {
   "cell_type": "code",
   "execution_count": 3,
   "metadata": {
    "id": "9IDgaUvRPHQn"
   },
   "outputs": [
    {
     "name": "stdout",
     "output_type": "stream",
     "text": [
      "<class 'pandas.core.frame.DataFrame'>\n",
      "RangeIndex: 17444 entries, 0 to 17443\n",
      "Data columns (total 4 columns):\n",
      " #   Column              Non-Null Count  Dtype \n",
      "---  ------              --------------  ----- \n",
      " 0   listing_id          17444 non-null  int64 \n",
      " 1   url                 17444 non-null  object\n",
      " 2   review_posted_date  17444 non-null  object\n",
      " 3   review              17444 non-null  object\n",
      "dtypes: int64(1), object(3)\n",
      "memory usage: 545.2+ KB\n"
     ]
    }
   ],
   "source": [
    "df.info()"
   ]
  },
  {
   "cell_type": "code",
   "execution_count": 4,
   "metadata": {
    "id": "268KjNqbNd_b"
   },
   "outputs": [
    {
     "data": {
      "text/plain": [
       "219"
      ]
     },
     "execution_count": 4,
     "metadata": {},
     "output_type": "execute_result"
    }
   ],
   "source": [
    "id = df.listing_id.unique()\n",
    "len(id)"
   ]
  },
  {
   "cell_type": "code",
   "execution_count": 5,
   "metadata": {
    "id": "Jhn6xzxfPPKp"
   },
   "outputs": [
    {
     "data": {
      "text/html": [
       "<div>\n",
       "<style scoped>\n",
       "    .dataframe tbody tr th:only-of-type {\n",
       "        vertical-align: middle;\n",
       "    }\n",
       "\n",
       "    .dataframe tbody tr th {\n",
       "        vertical-align: top;\n",
       "    }\n",
       "\n",
       "    .dataframe thead th {\n",
       "        text-align: right;\n",
       "    }\n",
       "</style>\n",
       "<table border=\"1\" class=\"dataframe\">\n",
       "  <thead>\n",
       "    <tr style=\"text-align: right;\">\n",
       "      <th></th>\n",
       "      <th>listing_id</th>\n",
       "      <th>review_posted_date</th>\n",
       "      <th>review</th>\n",
       "    </tr>\n",
       "  </thead>\n",
       "  <tbody>\n",
       "    <tr>\n",
       "      <th>0</th>\n",
       "      <td>2595</td>\n",
       "      <td>November 2019</td>\n",
       "      <td>Great location, convenient to everything. Very...</td>\n",
       "    </tr>\n",
       "    <tr>\n",
       "      <th>1</th>\n",
       "      <td>2595</td>\n",
       "      <td>May 2019</td>\n",
       "      <td>Place was so cute and comfy! Host was great an...</td>\n",
       "    </tr>\n",
       "    <tr>\n",
       "      <th>2</th>\n",
       "      <td>2595</td>\n",
       "      <td>May 2019</td>\n",
       "      <td>10 / 10 would stay again</td>\n",
       "    </tr>\n",
       "    <tr>\n",
       "      <th>3</th>\n",
       "      <td>2595</td>\n",
       "      <td>January 2019</td>\n",
       "      <td>The apartment met expectations to how it was i...</td>\n",
       "    </tr>\n",
       "    <tr>\n",
       "      <th>4</th>\n",
       "      <td>2595</td>\n",
       "      <td>December 2018</td>\n",
       "      <td>Great space in a fun old building in NYC. Love...</td>\n",
       "    </tr>\n",
       "  </tbody>\n",
       "</table>\n",
       "</div>"
      ],
      "text/plain": [
       "   listing_id review_posted_date  \\\n",
       "0        2595      November 2019   \n",
       "1        2595           May 2019   \n",
       "2        2595           May 2019   \n",
       "3        2595       January 2019   \n",
       "4        2595      December 2018   \n",
       "\n",
       "                                              review  \n",
       "0  Great location, convenient to everything. Very...  \n",
       "1  Place was so cute and comfy! Host was great an...  \n",
       "2                           10 / 10 would stay again  \n",
       "3  The apartment met expectations to how it was i...  \n",
       "4  Great space in a fun old building in NYC. Love...  "
      ]
     },
     "execution_count": 5,
     "metadata": {},
     "output_type": "execute_result"
    }
   ],
   "source": [
    "review = df[[\"listing_id\", \"review_posted_date\", \"review\"]]\n",
    "review.head()"
   ]
  },
  {
   "cell_type": "code",
   "execution_count": 6,
   "metadata": {
    "id": "NZYto1ClPhiC"
   },
   "outputs": [
    {
     "data": {
      "text/plain": [
       "'great location convenient to everything very cool space and building'"
      ]
     },
     "execution_count": 6,
     "metadata": {},
     "output_type": "execute_result"
    }
   ],
   "source": [
    "import nltk\n",
    "import re\n",
    "def process(text):\n",
    "    text = text.lower()\n",
    "    text = re.sub('[^a-zA-Z]+', ' ', text).strip()\n",
    "    return(text)\n",
    "process(review['review'][0])"
   ]
  },
  {
   "cell_type": "code",
   "execution_count": 7,
   "metadata": {
    "id": "_K8isW6GP80u"
   },
   "outputs": [
    {
     "data": {
      "text/html": [
       "<div>\n",
       "<style scoped>\n",
       "    .dataframe tbody tr th:only-of-type {\n",
       "        vertical-align: middle;\n",
       "    }\n",
       "\n",
       "    .dataframe tbody tr th {\n",
       "        vertical-align: top;\n",
       "    }\n",
       "\n",
       "    .dataframe thead th {\n",
       "        text-align: right;\n",
       "    }\n",
       "</style>\n",
       "<table border=\"1\" class=\"dataframe\">\n",
       "  <thead>\n",
       "    <tr style=\"text-align: right;\">\n",
       "      <th></th>\n",
       "      <th>listing_id</th>\n",
       "      <th>review_posted_date</th>\n",
       "      <th>review</th>\n",
       "      <th>clean_text</th>\n",
       "    </tr>\n",
       "  </thead>\n",
       "  <tbody>\n",
       "    <tr>\n",
       "      <th>0</th>\n",
       "      <td>2595</td>\n",
       "      <td>November 2019</td>\n",
       "      <td>Great location, convenient to everything. Very...</td>\n",
       "      <td>great location convenient to everything very c...</td>\n",
       "    </tr>\n",
       "    <tr>\n",
       "      <th>1</th>\n",
       "      <td>2595</td>\n",
       "      <td>May 2019</td>\n",
       "      <td>Place was so cute and comfy! Host was great an...</td>\n",
       "      <td>place was so cute and comfy host was great and...</td>\n",
       "    </tr>\n",
       "    <tr>\n",
       "      <th>2</th>\n",
       "      <td>2595</td>\n",
       "      <td>May 2019</td>\n",
       "      <td>10 / 10 would stay again</td>\n",
       "      <td>would stay again</td>\n",
       "    </tr>\n",
       "    <tr>\n",
       "      <th>3</th>\n",
       "      <td>2595</td>\n",
       "      <td>January 2019</td>\n",
       "      <td>The apartment met expectations to how it was i...</td>\n",
       "      <td>the apartment met expectations to how it was i...</td>\n",
       "    </tr>\n",
       "    <tr>\n",
       "      <th>4</th>\n",
       "      <td>2595</td>\n",
       "      <td>December 2018</td>\n",
       "      <td>Great space in a fun old building in NYC. Love...</td>\n",
       "      <td>great space in a fun old building in nyc loved...</td>\n",
       "    </tr>\n",
       "  </tbody>\n",
       "</table>\n",
       "</div>"
      ],
      "text/plain": [
       "   listing_id review_posted_date  \\\n",
       "0        2595      November 2019   \n",
       "1        2595           May 2019   \n",
       "2        2595           May 2019   \n",
       "3        2595       January 2019   \n",
       "4        2595      December 2018   \n",
       "\n",
       "                                              review  \\\n",
       "0  Great location, convenient to everything. Very...   \n",
       "1  Place was so cute and comfy! Host was great an...   \n",
       "2                           10 / 10 would stay again   \n",
       "3  The apartment met expectations to how it was i...   \n",
       "4  Great space in a fun old building in NYC. Love...   \n",
       "\n",
       "                                          clean_text  \n",
       "0  great location convenient to everything very c...  \n",
       "1  place was so cute and comfy host was great and...  \n",
       "2                                   would stay again  \n",
       "3  the apartment met expectations to how it was i...  \n",
       "4  great space in a fun old building in nyc loved...  "
      ]
     },
     "execution_count": 7,
     "metadata": {},
     "output_type": "execute_result"
    }
   ],
   "source": [
    "review['clean_text'] = review['review'].apply(lambda text: process(text))\n",
    "review.head()"
   ]
  },
  {
   "cell_type": "code",
   "execution_count": 8,
   "metadata": {
    "id": "xGXHAzCWQgLH"
   },
   "outputs": [
    {
     "name": "stdout",
     "output_type": "stream",
     "text": [
      "great location convenient to everything very cool space and building\n"
     ]
    },
    {
     "name": "stderr",
     "output_type": "stream",
     "text": [
      "[nltk_data] Downloading package vader_lexicon to\n",
      "[nltk_data]     C:\\Users\\vinny\\AppData\\Roaming\\nltk_data...\n",
      "[nltk_data]   Package vader_lexicon is already up-to-date!\n"
     ]
    },
    {
     "data": {
      "text/plain": [
       "{'neg': 0.0, 'neu': 0.544, 'pos': 0.456, 'compound': 0.7713}"
      ]
     },
     "execution_count": 8,
     "metadata": {},
     "output_type": "execute_result"
    }
   ],
   "source": [
    "nltk.download('vader_lexicon')\n",
    "from nltk.sentiment.vader import SentimentIntensityAnalyzer\n",
    "analyzer = SentimentIntensityAnalyzer()\n",
    "text = review['clean_text'][0]\n",
    "print(text)\n",
    "analyzer.polarity_scores(text)"
   ]
  },
  {
   "cell_type": "code",
   "execution_count": 9,
   "metadata": {},
   "outputs": [
    {
     "data": {
      "text/html": [
       "<div>\n",
       "<style scoped>\n",
       "    .dataframe tbody tr th:only-of-type {\n",
       "        vertical-align: middle;\n",
       "    }\n",
       "\n",
       "    .dataframe tbody tr th {\n",
       "        vertical-align: top;\n",
       "    }\n",
       "\n",
       "    .dataframe thead th {\n",
       "        text-align: right;\n",
       "    }\n",
       "</style>\n",
       "<table border=\"1\" class=\"dataframe\">\n",
       "  <thead>\n",
       "    <tr style=\"text-align: right;\">\n",
       "      <th></th>\n",
       "      <th>listing_id</th>\n",
       "      <th>review_posted_date</th>\n",
       "      <th>review</th>\n",
       "      <th>clean_text</th>\n",
       "      <th>review_score_cleaned</th>\n",
       "    </tr>\n",
       "  </thead>\n",
       "  <tbody>\n",
       "    <tr>\n",
       "      <th>0</th>\n",
       "      <td>2595</td>\n",
       "      <td>November 2019</td>\n",
       "      <td>Great location, convenient to everything. Very...</td>\n",
       "      <td>great location convenient to everything very c...</td>\n",
       "      <td>0.7713</td>\n",
       "    </tr>\n",
       "    <tr>\n",
       "      <th>1</th>\n",
       "      <td>2595</td>\n",
       "      <td>May 2019</td>\n",
       "      <td>Place was so cute and comfy! Host was great an...</td>\n",
       "      <td>place was so cute and comfy host was great and...</td>\n",
       "      <td>0.9506</td>\n",
       "    </tr>\n",
       "    <tr>\n",
       "      <th>2</th>\n",
       "      <td>2595</td>\n",
       "      <td>May 2019</td>\n",
       "      <td>10 / 10 would stay again</td>\n",
       "      <td>would stay again</td>\n",
       "      <td>0.0000</td>\n",
       "    </tr>\n",
       "    <tr>\n",
       "      <th>3</th>\n",
       "      <td>2595</td>\n",
       "      <td>January 2019</td>\n",
       "      <td>The apartment met expectations to how it was i...</td>\n",
       "      <td>the apartment met expectations to how it was i...</td>\n",
       "      <td>0.5829</td>\n",
       "    </tr>\n",
       "    <tr>\n",
       "      <th>4</th>\n",
       "      <td>2595</td>\n",
       "      <td>December 2018</td>\n",
       "      <td>Great space in a fun old building in NYC. Love...</td>\n",
       "      <td>great space in a fun old building in nyc loved...</td>\n",
       "      <td>0.9062</td>\n",
       "    </tr>\n",
       "  </tbody>\n",
       "</table>\n",
       "</div>"
      ],
      "text/plain": [
       "   listing_id review_posted_date  \\\n",
       "0        2595      November 2019   \n",
       "1        2595           May 2019   \n",
       "2        2595           May 2019   \n",
       "3        2595       January 2019   \n",
       "4        2595      December 2018   \n",
       "\n",
       "                                              review  \\\n",
       "0  Great location, convenient to everything. Very...   \n",
       "1  Place was so cute and comfy! Host was great an...   \n",
       "2                           10 / 10 would stay again   \n",
       "3  The apartment met expectations to how it was i...   \n",
       "4  Great space in a fun old building in NYC. Love...   \n",
       "\n",
       "                                          clean_text  review_score_cleaned  \n",
       "0  great location convenient to everything very c...                0.7713  \n",
       "1  place was so cute and comfy host was great and...                0.9506  \n",
       "2                                   would stay again                0.0000  \n",
       "3  the apartment met expectations to how it was i...                0.5829  \n",
       "4  great space in a fun old building in nyc loved...                0.9062  "
      ]
     },
     "execution_count": 9,
     "metadata": {},
     "output_type": "execute_result"
    }
   ],
   "source": [
    "review['review_score_cleaned'] = review['clean_text'].apply(lambda x:analyzer.polarity_scores(x)['compound'])\n",
    "review.head()"
   ]
  },
  {
   "cell_type": "code",
   "execution_count": 10,
   "metadata": {},
   "outputs": [],
   "source": [
    "review.drop('review', axis=1, inplace=True)"
   ]
  },
  {
   "cell_type": "code",
   "execution_count": 11,
   "metadata": {},
   "outputs": [],
   "source": [
    "review.to_csv(\"reviews_with_sentiment.csv\", header=False, index=False)"
   ]
  },
  {
   "cell_type": "code",
   "execution_count": 12,
   "metadata": {},
   "outputs": [
    {
     "data": {
      "text/plain": [
       "<AxesSubplot:>"
      ]
     },
     "execution_count": 12,
     "metadata": {},
     "output_type": "execute_result"
    },
    {
     "data": {
      "image/png": "[encoded data removed]",
      "text/plain": [
       "<Figure size 640x480 with 1 Axes>"
      ]
     },
     "metadata": {},
     "output_type": "display_data"
    }
   ],
   "source": [
    "from matplotlib import pyplot as plt\n",
    "review[\"review_score_cleaned\"].hist()"
   ]
  },
  {
   "cell_type": "markdown",
   "metadata": {},
   "source": [
    "!python sentiment_month_and_year.py -r local reviews_with_sentiment.csv --no-bootstrap-mrjob"
   ]
  },
  {
   "cell_type": "markdown",
   "metadata": {},
   "source": [
    "Addon\n",
    "1. mapreduce: look for the average (min and max too?) review_score_cleaned (sentiment) of each listing\n",
    "2. mapreduce: look for the average review_score_cleaned of each month and year\n",
    "3. mapreduce: ... of each month only\n",
    "4. box plot of the review_score_cleaned of each listing\n",
    "5. line graph of review_score_cleaned vs review_posted_date of each listing"
   ]
  },
  {
   "cell_type": "code",
   "execution_count": 13,
   "metadata": {},
   "outputs": [
    {
     "name": "stdout",
     "output_type": "stream",
     "text": [
      "Overwriting sentiment_listing.py\n"
     ]
    }
   ],
   "source": [
    "%%file sentiment_listing.py\n",
    "from mrjob.job import MRJob\n",
    "\n",
    "class SentimentListing(MRJob):\n",
    "\n",
    "    def mapper(self, _,line):\n",
    "        val=line.split(',')\n",
    "        listing_id = int(val[0])\n",
    "        rsc = float(val[3])\n",
    "        if rsc <= 1 and rsc >= -1:\n",
    "            yield listing_id, rsc\n",
    "\n",
    "    def reducer(self, key, values):\n",
    "        count =0\n",
    "        total =0\n",
    "        max =-1\n",
    "        min = 1\n",
    "\n",
    "        for t in values:\n",
    "            count = count + 1\n",
    "            total += t\n",
    "            if(t>max):\n",
    "                max = t\n",
    "            if(t<min):\n",
    "                min = t\n",
    "        yield key , {\"average\":(total /count), \"max\":max, \"min\":min}\n",
    "\n",
    "\n",
    "if __name__ == '__main__':\n",
    "    SentimentListing.run()"
   ]
  },
  {
   "cell_type": "code",
   "execution_count": 14,
   "metadata": {},
   "outputs": [
    {
     "name": "stderr",
     "output_type": "stream",
     "text": [
      "No configs found; falling back on auto-configuration\n",
      "No configs specified for local runner\n",
      "Creating temp directory C:\\Users\\vinny\\AppData\\Local\\Temp\\sentiment_listing.vinny.20221216.043451.674066\n",
      "Running step 1 of 1...\n",
      "job output is in C:\\Users\\vinny\\AppData\\Local\\Temp\\sentiment_listing.vinny.20221216.043451.674066\\output\n",
      "Streaming final output from C:\\Users\\vinny\\AppData\\Local\\Temp\\sentiment_listing.vinny.20221216.043451.674066\\output...\n",
      "Removing temp directory C:\\Users\\vinny\\AppData\\Local\\Temp\\sentiment_listing.vinny.20221216.043451.674066...\n"
     ]
    }
   ],
   "source": [
    "!python sentiment_listing.py -r local reviews_with_sentiment.csv --no-bootstrap-mrjob > listing.txt"
   ]
  },
  {
   "cell_type": "code",
   "execution_count": 60,
   "metadata": {},
   "outputs": [
    {
     "data": {
      "text/plain": [
       "{'whiskers': [<matplotlib.lines.Line2D at 0x24475d5acd0>,\n",
       "  <matplotlib.lines.Line2D at 0x24475d5afa0>],\n",
       " 'caps': [<matplotlib.lines.Line2D at 0x24475d6a160>,\n",
       "  <matplotlib.lines.Line2D at 0x24475d6a460>],\n",
       " 'boxes': [<matplotlib.lines.Line2D at 0x24475d5aa00>],\n",
       " 'medians': [<matplotlib.lines.Line2D at 0x24475d6a730>],\n",
       " 'fliers': [<matplotlib.lines.Line2D at 0x24475d6aa00>],\n",
       " 'means': []}"
      ]
     },
     "execution_count": 60,
     "metadata": {},
     "output_type": "execute_result"
    },
    {
     "data": {
      "image/png": "[encoded data removed]",
      "text/plain": [
       "<Figure size 640x480 with 1 Axes>"
      ]
     },
     "metadata": {},
     "output_type": "display_data"
    }
   ],
   "source": [
    "data = pd.read_csv('listing.txt', sep=\"\\t\", header=None)\n",
    "data.columns = [\"listing_id\",\"stats\"]\n",
    "for i, row in data.iterrows():\n",
    "    data.at[i,\"stats\"] = re.sub('[^0-9\\.\\,]','',data.at[i,\"stats\"])\n",
    "#data[\"stats\"]\n",
    "data[[\"average\",\"max\",\"min\"]] = data[\"stats\"].str.split(pat=',',expand=True)\n",
    "for i, row in data.iterrows():\n",
    "    data.at[i,\"average\"] = float(data.at[i,\"average\"])\n",
    "    data.at[i,\"max\"] = float(data.at[i,\"max\"])\n",
    "    data.at[i,\"min\"] = float(data.at[i,\"min\"])\n",
    "plt.boxplot(data[\"average\"])"
   ]
  },
  {
   "cell_type": "markdown",
   "metadata": {},
   "source": [
    "*********\n",
    "hey Wesley, the line graph is a still a mess after turning the dates into datetime objects. They are still datetime objects, so if you know which direction to go with this graph, you can use review['review_posted_date']\n",
    "*********"
   ]
  },
  {
   "cell_type": "code",
   "execution_count": 79,
   "metadata": {},
   "outputs": [
    {
     "data": {
      "text/plain": [
       "0        11-2019\n",
       "1        05-2019\n",
       "2        05-2019\n",
       "3        01-2019\n",
       "4        12-2018\n",
       "          ...   \n",
       "17439    02-2022\n",
       "17440    01-2022\n",
       "17441    12-2021\n",
       "17442    11-2021\n",
       "17443    11-2021\n",
       "Name: review_posted_date, Length: 17444, dtype: object"
      ]
     },
     "execution_count": 79,
     "metadata": {},
     "output_type": "execute_result"
    }
   ],
   "source": [
    "import datetime as dt\n",
    "review['review_posted_date'] = pd.to_datetime(review['review_posted_date']).dt.to_period('m')\n",
    "review['review_posted_date'] =review['review_posted_date'].dt.to_timestamp('s').dt.strftime('%m-%Y')\n",
    "review['review_posted_date']\n",
    "#box.plot(review[\"review_posted_date\"],review[\"review_score_cleaned\"])"
   ]
  },
  {
   "cell_type": "code",
   "execution_count": 15,
   "metadata": {},
   "outputs": [
    {
     "name": "stdout",
     "output_type": "stream",
     "text": [
      "Overwriting sentiment_month_and_year.py\n"
     ]
    }
   ],
   "source": [
    "%%file sentiment_month_and_year.py\n",
    "from mrjob.job import MRJob\n",
    "import re\n",
    "\n",
    "DATE_RE = re.compile(r\"[a-zA-Z]* [0-9]{4}\")\n",
    "\n",
    "class SentimentMonthYear(MRJob):\n",
    "\n",
    "    def mapper(self, _, line):\n",
    "        val = line.split(',')\n",
    "        (review_posted_date, review_score_cleaned) = (val[1].strip(), float(val[3]))\n",
    "        if (re.match(DATE_RE, review_posted_date) and (-1 <= review_score_cleaned <= 1)):\n",
    "            yield review_posted_date, review_score_cleaned\n",
    "\n",
    "    def reducer(self, key, values):\n",
    "        total = 0.0\n",
    "        count = 0\n",
    "        max = -1\n",
    "        min = 1\n",
    "        for value in values:\n",
    "            total += value\n",
    "            count += 1\n",
    "            if(value > max):\n",
    "                max = value\n",
    "            if(value < min):\n",
    "                min = value\n",
    "        yield key, {\"average\":(total / count), \"max\":max, \"min\":min}\n",
    "\n",
    "if __name__ == '__main__':\n",
    "    SentimentMonthYear.run()"
   ]
  },
  {
   "cell_type": "code",
   "execution_count": 16,
   "metadata": {},
   "outputs": [
    {
     "name": "stderr",
     "output_type": "stream",
     "text": [
      "No configs found; falling back on auto-configuration\n",
      "No configs specified for local runner\n",
      "Creating temp directory C:\\Users\\vinny\\AppData\\Local\\Temp\\sentiment_month_and_year.vinny.20221216.043514.931789\n",
      "Running step 1 of 1...\n",
      "job output is in C:\\Users\\vinny\\AppData\\Local\\Temp\\sentiment_month_and_year.vinny.20221216.043514.931789\\output\n",
      "Streaming final output from C:\\Users\\vinny\\AppData\\Local\\Temp\\sentiment_month_and_year.vinny.20221216.043514.931789\\output...\n",
      "Removing temp directory C:\\Users\\vinny\\AppData\\Local\\Temp\\sentiment_month_and_year.vinny.20221216.043514.931789...\n"
     ]
    }
   ],
   "source": [
    "!python sentiment_month_and_year.py -r local reviews_with_sentiment.csv --no-bootstrap-mrjob > month_year.txt"
   ]
  },
  {
   "cell_type": "code",
   "execution_count": 17,
   "metadata": {},
   "outputs": [
    {
     "name": "stdout",
     "output_type": "stream",
     "text": [
      "Overwriting sentiment_month.py\n"
     ]
    }
   ],
   "source": [
    "%%file sentiment_month.py\n",
    "from mrjob.job import MRJob\n",
    "import re\n",
    "\n",
    "DATE_RE = re.compile(r\"[a-zA-Z]* [0-9]{4}\")\n",
    "\n",
    "class SentimentMonth(MRJob):\n",
    "\n",
    "    def mapper(self, _, line):\n",
    "        val = line.split(',')\n",
    "        (review_posted_date, review_score_cleaned) = (val[1].strip(), float(val[3]))\n",
    "        if (re.match(DATE_RE, review_posted_date) and (-1 <= review_score_cleaned <= 1)):\n",
    "            month = review_posted_date.split()[0]\n",
    "            yield month, review_score_cleaned\n",
    "\n",
    "    def reducer(self, key, values):\n",
    "        total = 0.0\n",
    "        count = 0\n",
    "        max = -1\n",
    "        min = 1\n",
    "        for value in values:\n",
    "            total += value\n",
    "            count += 1\n",
    "            if(value > max):\n",
    "                max = value\n",
    "            if(value < min):\n",
    "                min = value\n",
    "        yield key, {\"average\":(total / count), \"max\":max, \"min\":min}\n",
    "\n",
    "if __name__ == '__main__':\n",
    "    SentimentMonth.run()"
   ]
  },
  {
   "cell_type": "code",
   "execution_count": 18,
   "metadata": {
    "scrolled": true
   },
   "outputs": [
    {
     "name": "stderr",
     "output_type": "stream",
     "text": [
      "No configs found; falling back on auto-configuration\n",
      "No configs specified for local runner\n",
      "Creating temp directory C:\\Users\\vinny\\AppData\\Local\\Temp\\sentiment_month.vinny.20221216.043537.797926\n",
      "Running step 1 of 1...\n",
      "job output is in C:\\Users\\vinny\\AppData\\Local\\Temp\\sentiment_month.vinny.20221216.043537.797926\\output\n",
      "Streaming final output from C:\\Users\\vinny\\AppData\\Local\\Temp\\sentiment_month.vinny.20221216.043537.797926\\output...\n",
      "Removing temp directory C:\\Users\\vinny\\AppData\\Local\\Temp\\sentiment_month.vinny.20221216.043537.797926...\n"
     ]
    }
   ],
   "source": [
    "!python sentiment_month.py -r local reviews_with_sentiment.csv --no-bootstrap-mrjob > month.txt"
   ]
  },
  {
   "cell_type": "code",
   "execution_count": null,
   "metadata": {},
   "outputs": [],
   "source": []
  }
 ],
 "metadata": {
  "colab": {
   "provenance": []
  },
  "kernelspec": {
   "display_name": "Python 3 (ipykernel)",
   "language": "python",
   "name": "python3"
  },
  "language_info": {
   "codemirror_mode": {
    "name": "ipython",
    "version": 3
   },
   "file_extension": ".py",
   "mimetype": "text/x-python",
   "name": "python",
   "nbconvert_exporter": "python",
   "pygments_lexer": "ipython3",
   "version": "3.8.10 (tags/v3.8.10:3d8993a, May  3 2021, 11:48:03) [MSC v.1928 64 bit (AMD64)]"
  },
  "vscode": {
   "interpreter": {
    "hash": "1cc2b5c54b8906007202f0eacccb3029a3309de6a0dd2a6fb711e9fb9613b144"
   }
  }
 },
 "nbformat": 4,
 "nbformat_minor": 1
}
